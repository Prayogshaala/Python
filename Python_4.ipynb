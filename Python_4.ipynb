{
 "cells": [
  {
   "cell_type": "markdown",
   "id": "4d50b151-13d1-46ee-8537-72f49ace4f00",
   "metadata": {},
   "source": [
    "# Day 3\n",
    "### &nbsp;&nbsp;&nbsp;Random Module\n",
    "### &nbsp;&nbsp;&nbsp;randint(a,b)\n",
    "### &nbsp;&nbsp;&nbsp;random()\n",
    "### &nbsp;&nbsp;&nbsp;uniform(a,b)\n",
    "### &nbsp;&nbsp;&nbsp;Head_or_Tails\n",
    "### &nbsp;&nbsp;&nbsp;Lists\n",
    "### &nbsp;&nbsp;&nbsp;Create a list\n",
    "### &nbsp;&nbsp;&nbsp;Access elements of the list\n",
    "### &nbsp;&nbsp;&nbsp;Add elements\n",
    "### &nbsp;&nbsp;&nbsp;Remove elements\n",
    "### &nbsp;&nbsp;&nbsp;Update elements\n",
    "### &nbsp;&nbsp;&nbsp;Who pays the bill?"
   ]
  },
  {
   "cell_type": "markdown",
   "id": "52badc2a-6d22-4271-a1d4-41981553f6e9",
   "metadata": {},
   "source": [
    "#### What is a Module - Module is a way of organizing code in different scripts. I can have some code in script my_module.py and refer to in in another script by importing the my_module in that script. i.e. import my_module"
   ]
  },
  {
   "cell_type": "markdown",
   "id": "a3910f5a-230d-4e1d-bc5a-1b26fb4aa66e",
   "metadata": {},
   "source": [
    "### Random module is a python module that contains methods to generate random numbers"
   ]
  },
  {
   "cell_type": "code",
   "execution_count": 2,
   "id": "3fd267b3-3103-4017-9f97-d81fe0644a4c",
   "metadata": {},
   "outputs": [],
   "source": [
    "import random"
   ]
  },
  {
   "cell_type": "code",
   "execution_count": 15,
   "id": "9e51fa63-0624-4601-bd20-e80d38828f5d",
   "metadata": {},
   "outputs": [
    {
     "name": "stdout",
     "output_type": "stream",
     "text": [
      "1\n"
     ]
    }
   ],
   "source": [
    "random_int = random.randint(0,5)  ## randint takes start and end number as a range and returns any number within this range. Start and end number are inclusive.\n",
    "print(random_int)"
   ]
  },
  {
   "cell_type": "code",
   "execution_count": 20,
   "id": "edf4d2a0-950b-44e6-8055-a6f957425706",
   "metadata": {},
   "outputs": [
    {
     "name": "stdout",
     "output_type": "stream",
     "text": [
      "0.660845642951543\n"
     ]
    }
   ],
   "source": [
    "random_float_0_1=random.random() ## random returns any floating point number between 0 and 1, 0 is inclusive 1 is not.\n",
    "print(random_float_0_1)"
   ]
  },
  {
   "cell_type": "code",
   "execution_count": 31,
   "id": "ac65e4c1-450b-40ce-8079-8cd0b3bdad18",
   "metadata": {},
   "outputs": [
    {
     "name": "stdout",
     "output_type": "stream",
     "text": [
      "3.9916378532692725\n"
     ]
    }
   ],
   "source": [
    "random_float= random.uniform(1,5) ## randint takes start and end number as a range and returns any floating point number within this range. Start and end number are inclusive.\n",
    "print(random_float)"
   ]
  },
  {
   "cell_type": "code",
   "execution_count": 37,
   "id": "64197ddd-328e-4a41-89e6-c59dcfebd51b",
   "metadata": {},
   "outputs": [],
   "source": [
    "def heads_or_tails( random_int):\n",
    "    if random_int % 2 == 0:\n",
    "        return 'Heads'\n",
    "    else:\n",
    "        return 'Tails'"
   ]
  },
  {
   "cell_type": "code",
   "execution_count": 41,
   "id": "bedc876f-77cf-466c-b6b0-90a3f69a9569",
   "metadata": {},
   "outputs": [
    {
     "name": "stdin",
     "output_type": "stream",
     "text": [
      "Do you want to flip a coin? y\n"
     ]
    },
    {
     "name": "stdout",
     "output_type": "stream",
     "text": [
      "Heads\n"
     ]
    }
   ],
   "source": [
    "flip=bool(input(\"Do you want to flip a coin?\"))\n",
    "\n",
    "if flip:\n",
    "    print(heads_or_tails(random.randint(1,6)))"
   ]
  },
  {
   "cell_type": "markdown",
   "id": "89256443-02f0-4cd6-91b3-be1b8fa8ec92",
   "metadata": {},
   "source": [
    "### Lists = Built in data type in python than basically stored different elements. \n",
    "### Lists maintains the order\n",
    "### Elements can be of different data types\n",
    "### User can add, update, remove element/s anytime\n",
    "### Duplicate elements are allowed"
   ]
  },
  {
   "cell_type": "markdown",
   "id": "c307eaf6-f76e-4789-ae86-13fd7a5b1379",
   "metadata": {},
   "source": [
    "### 1. Creating List"
   ]
  },
  {
   "cell_type": "code",
   "execution_count": 43,
   "id": "22184c3b-9b4a-4725-98af-8c68e1d4f167",
   "metadata": {},
   "outputs": [
    {
     "name": "stdout",
     "output_type": "stream",
     "text": [
      "Empty list - []\n"
     ]
    }
   ],
   "source": [
    "people =[] ## Empty list is created\n",
    "\n",
    "print(f\"Empty list - {people}\")\n",
    "\n"
   ]
  },
  {
   "cell_type": "code",
   "execution_count": 46,
   "id": "9df55ff6-7e98-4e46-aea4-e6576cb7551e",
   "metadata": {},
   "outputs": [
    {
     "name": "stdout",
     "output_type": "stream",
     "text": [
      "Populated list - ['John', 567]\n"
     ]
    }
   ],
   "source": [
    "people =['John',567] ## Populate list is created, elements are of different datatypes\n",
    "\n",
    "print(f\"Populated list - {people}\")\n"
   ]
  },
  {
   "cell_type": "markdown",
   "id": "28d52434-15c5-4583-9975-8f5574d6a8c1",
   "metadata": {},
   "source": [
    "### 2. Accessing List"
   ]
  },
  {
   "cell_type": "code",
   "execution_count": 47,
   "id": "b052260a-5e8b-442e-ac92-94ab9aada3b5",
   "metadata": {},
   "outputs": [
    {
     "name": "stdout",
     "output_type": "stream",
     "text": [
      "567\n"
     ]
    }
   ],
   "source": [
    "print(people[-1])"
   ]
  },
  {
   "cell_type": "markdown",
   "id": "f466d92d-89fd-4e12-b23d-edf3575df629",
   "metadata": {},
   "source": [
    "### 3. Adding elements to the list"
   ]
  },
  {
   "cell_type": "code",
   "execution_count": 49,
   "id": "33abbd21-a745-4cc0-bf11-696f22e4f673",
   "metadata": {},
   "outputs": [
    {
     "name": "stdout",
     "output_type": "stream",
     "text": [
      "['John', 567, 'Hodor']\n"
     ]
    }
   ],
   "source": [
    "people.append('Hodor')  ## append only adds 1 element at a time\n",
    "print(people)"
   ]
  },
  {
   "cell_type": "code",
   "execution_count": 50,
   "id": "48fbe234-bcb1-4e8f-b61b-7fe53c9ea055",
   "metadata": {},
   "outputs": [
    {
     "name": "stdout",
     "output_type": "stream",
     "text": [
      "['John', 567, 'Hodor', 'Ned', 'Arya', 'Sansa']\n"
     ]
    }
   ],
   "source": [
    "people.extend(['Ned','Arya','Sansa']) ## Add multiple elements. Besically provide a list of elements to be added\n",
    "print(people)"
   ]
  },
  {
   "cell_type": "code",
   "execution_count": 51,
   "id": "59d289d1-10d1-46a7-a1da-a8b0a9ddba8c",
   "metadata": {},
   "outputs": [
    {
     "name": "stdout",
     "output_type": "stream",
     "text": [
      "['John', 567, 'Tyrion', 'Hodor', 'Ned', 'Arya', 'Sansa']\n"
     ]
    }
   ],
   "source": [
    "people.insert(2,'Tyrion') ## Allows additions of element at a specified position\n",
    "print(people)"
   ]
  },
  {
   "cell_type": "markdown",
   "id": "78200c3a-a7d5-446f-b80c-2b615d909c54",
   "metadata": {},
   "source": [
    "### 4. Remove element"
   ]
  },
  {
   "cell_type": "code",
   "execution_count": 52,
   "id": "0319defa-6f08-4df5-bfac-d47343ae150e",
   "metadata": {},
   "outputs": [
    {
     "name": "stdout",
     "output_type": "stream",
     "text": [
      "['John', 'Tyrion', 'Hodor', 'Ned', 'Arya', 'Sansa']\n"
     ]
    }
   ],
   "source": [
    "people.remove(567) ## Removes by value i.e. all the elements with value 567 will be removed from the list\n",
    "print(people)"
   ]
  },
  {
   "cell_type": "code",
   "execution_count": 53,
   "id": "eaaf3aeb-dc4f-43a5-a15f-a14ea9449456",
   "metadata": {},
   "outputs": [
    {
     "name": "stdout",
     "output_type": "stream",
     "text": [
      "['John', 'Tyrion', 'Hodor', 'Ned', 'Arya']\n"
     ]
    }
   ],
   "source": [
    "people.pop() ## will remove the last element\n",
    "print(people)"
   ]
  },
  {
   "cell_type": "code",
   "execution_count": 54,
   "id": "f05a87e2-bfda-4f37-be7f-f3186b258ddb",
   "metadata": {},
   "outputs": [
    {
     "name": "stdout",
     "output_type": "stream",
     "text": [
      "['John', 'Hodor', 'Ned', 'Arya']\n"
     ]
    }
   ],
   "source": [
    "people.pop(1) ## will remove element identified by the index\n",
    "print(people)"
   ]
  },
  {
   "cell_type": "markdown",
   "id": "ee0216eb-07bf-449f-9dc2-fe6e4c12daa7",
   "metadata": {},
   "source": [
    "### 5. Modify element"
   ]
  },
  {
   "cell_type": "code",
   "execution_count": 55,
   "id": "40922aec-9302-4709-8b5d-d5bf5ea8241b",
   "metadata": {},
   "outputs": [
    {
     "name": "stdout",
     "output_type": "stream",
     "text": [
      "['John', 'Mountain', 'Ned', 'Arya']\n"
     ]
    }
   ],
   "source": [
    "people[1]='Mountain' ## Element identified is replace by value provided\n",
    "print(people)"
   ]
  },
  {
   "cell_type": "code",
   "execution_count": 59,
   "id": "d61a2ed1-f827-44f0-8425-06db79bfea90",
   "metadata": {},
   "outputs": [
    {
     "name": "stdout",
     "output_type": "stream",
     "text": [
      "['John', 'Mountain', 'Ned Stark', 'Arya Stark']\n"
     ]
    }
   ],
   "source": [
    "people[2:4]=['Ned Stark','Arya Stark']  ##Modifying multiple elements at a time\n",
    "print(people)"
   ]
  },
  {
   "cell_type": "code",
   "execution_count": 65,
   "id": "2bcf0120-0a84-43de-8ea9-1dbaa310f557",
   "metadata": {},
   "outputs": [],
   "source": [
    "def who_pays_the_bill(people):\n",
    "    num_of_people=len(people)\n",
    "    if num_of_people ==0:\n",
    "        print('No bill to be paid')\n",
    "    elif num_of_people ==1:\n",
    "        return people[0]\n",
    "    else:\n",
    "        return people[random.randint(0,num_of_people-1)]"
   ]
  },
  {
   "cell_type": "code",
   "execution_count": 87,
   "id": "fe051dc2-89b8-4c24-9be6-d8715481f309",
   "metadata": {},
   "outputs": [
    {
     "name": "stdout",
     "output_type": "stream",
     "text": [
      "Mountain\n"
     ]
    }
   ],
   "source": [
    "print(who_pays_the_bill(people))"
   ]
  },
  {
   "cell_type": "code",
   "execution_count": 93,
   "id": "4b42d950-0605-4fe7-ac49-552166e64ec3",
   "metadata": {},
   "outputs": [
    {
     "name": "stdout",
     "output_type": "stream",
     "text": [
      "Arya Stark\n"
     ]
    }
   ],
   "source": [
    "print(random.choice(people))  ## random.choice basically picks a random element from the list. So same functionality"
   ]
  },
  {
   "cell_type": "markdown",
   "id": "1dd75775-d81d-4527-a16d-f706ecaa9c84",
   "metadata": {},
   "source": [
    "### Nested Lists"
   ]
  },
  {
   "cell_type": "code",
   "execution_count": 95,
   "id": "d8ef22a7-281a-4fdf-8050-ce0899f7c677",
   "metadata": {},
   "outputs": [
    {
     "name": "stdout",
     "output_type": "stream",
     "text": [
      "['Ned', 'Sansa', 'Arya']\n",
      "['Tywin', 'Jamie', 'Tyrion']\n",
      "[['Ned', 'Sansa', 'Arya'], ['Tywin', 'Jamie', 'Tyrion']]\n"
     ]
    }
   ],
   "source": [
    "Starks=['Ned','Sansa','Arya']\n",
    "Lannisters=['Tywin','Jamie','Tyrion']\n",
    "\n",
    "print(Starks)\n",
    "print(Lannisters)\n",
    "\n",
    "GOT=[Starks,Lannisters]\n",
    "print(GOT)"
   ]
  },
  {
   "cell_type": "code",
   "execution_count": null,
   "id": "70dd13de-5d7a-44b5-97de-41533d092a1e",
   "metadata": {},
   "outputs": [],
   "source": []
  }
 ],
 "metadata": {
  "kernelspec": {
   "display_name": "Python 3 (ipykernel)",
   "language": "python",
   "name": "python3"
  },
  "language_info": {
   "codemirror_mode": {
    "name": "ipython",
    "version": 3
   },
   "file_extension": ".py",
   "mimetype": "text/x-python",
   "name": "python",
   "nbconvert_exporter": "python",
   "pygments_lexer": "ipython3",
   "version": "3.13.5"
  }
 },
 "nbformat": 4,
 "nbformat_minor": 5
}

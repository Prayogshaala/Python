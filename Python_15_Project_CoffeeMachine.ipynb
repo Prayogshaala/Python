{
 "cells": [
  {
   "cell_type": "markdown",
   "id": "9c429bf8-1ba8-4268-a3b5-6c061d515414",
   "metadata": {},
   "source": [
    "### Python 15 project - Coffee Machine"
   ]
  },
  {
   "cell_type": "code",
   "execution_count": 109,
   "id": "d266f099-54f9-40e7-a465-f4cca107aceb",
   "metadata": {},
   "outputs": [],
   "source": [
    "import Ascii_logos"
   ]
  },
  {
   "cell_type": "code",
   "execution_count": 110,
   "id": "06e98772-97b3-49ef-a883-c7fe1eb40e99",
   "metadata": {},
   "outputs": [
    {
     "name": "stdout",
     "output_type": "stream",
     "text": [
      "\n",
      "\n",
      " _____        __  __                  \n",
      "/  __ \\      / _|/ _|                 \n",
      "| /  \\/ ___ | |_| |_ ___  ___         \n",
      "| |    / _ \\|  _|  _/ _ \\/ _ \\        \n",
      "| \\__/\\ (_) | | | ||  __/  __/        \n",
      " \\____/\\___/|_| |_| \\___|\\___|        \n",
      "                                      \n",
      "                                      \n",
      "___  ___           _     _            \n",
      "|  \\/  |          | |   (_)           \n",
      "| .  . | __ _  ___| |__  _ _ __   ___ \n",
      "| |\\/| |/ _` |/ __| '_ \\| | '_ \\ / _ | |  | | (_| | (__| | | | | | | |  __/\n",
      "\\_|  |_/\\__,_|\\___|_| |_|_|_| |_|\\___|\n",
      "                                      \n",
      "                                      \n",
      "\n"
     ]
    }
   ],
   "source": [
    "print(Ascii_logos.Coffee_Machine_Logo)"
   ]
  },
  {
   "cell_type": "code",
   "execution_count": 111,
   "id": "6eb767de-3b86-4eec-80f3-2a48947cb23f",
   "metadata": {},
   "outputs": [],
   "source": [
    "resource={\n",
    "    'Water':800,\n",
    "    'Milk':500,\n",
    "    'Coffee':200,\n",
    "    'Money':0.0\n",
    "}"
   ]
  },
  {
   "cell_type": "code",
   "execution_count": 112,
   "id": "2157a0d4-bc78-485c-9ca8-85e122297b76",
   "metadata": {},
   "outputs": [],
   "source": [
    "requirement={\n",
    "    'Espresso':\n",
    "        {\n",
    "            'Water':50,\n",
    "            'Coffee':18,\n",
    "            'Money':3\n",
    "        },\n",
    "    'Latte':\n",
    "        {\n",
    "            'Water':200,\n",
    "            'Coffee':24,\n",
    "            'Milk':150,\n",
    "            'Money':5\n",
    "        },\n",
    "    'Capuccino':\n",
    "        {\n",
    "            'Water':250,\n",
    "            'Coffee':24,\n",
    "            'Milk':100,\n",
    "            'Money':7\n",
    "        },\n",
    "}"
   ]
  },
  {
   "cell_type": "code",
   "execution_count": 113,
   "id": "49ca07b1-c892-4099-9a5d-1a4989b3988d",
   "metadata": {},
   "outputs": [],
   "source": [
    "def show_report(resource):\n",
    "    print(f\"Here is the report- \\n Water: {resource['Water']}ml \\n Coffee: {resource['Coffee']}g \\n Milk: {resource['Milk']}ml \\n Money: ${resource['Money']}\")"
   ]
  },
  {
   "cell_type": "code",
   "execution_count": 114,
   "id": "6a71b147-48ec-41f5-a613-97f85eb229a5",
   "metadata": {},
   "outputs": [
    {
     "name": "stdout",
     "output_type": "stream",
     "text": [
      "Here is the report- \n",
      " Water: 800ml \n",
      " Coffee: 200g \n",
      " Milk: 500ml \n",
      " Money: $0.0\n"
     ]
    }
   ],
   "source": [
    "show_report(resource)"
   ]
  },
  {
   "cell_type": "code",
   "execution_count": 115,
   "id": "ab5b9bc1-87c0-443c-bef2-59d410d239eb",
   "metadata": {},
   "outputs": [],
   "source": [
    "def check_resources(requirement,resource,order):\n",
    "    sufficient_resources=1\n",
    "    if requirement[order]['Water']> resource['Water']:\n",
    "        print(f\"Sorry {order} needs {requirement[order]['Water']}ml of water, Machine has {resource['Water']}ml of water. Please refill\")\n",
    "        sufficient_resources=0\n",
    "    if requirement[order]['Coffee']> resource['Coffee']:\n",
    "        print(f\"Sorry {order} needs {requirement[order]['Coffee']}g of Coffee, Machine has {resource['Coffee']}g of Coffee. Please refill\")\n",
    "        sufficient_resources=0\n",
    "    if requirement[order]['Milk']> resource['Milk']:\n",
    "        print(f\"Sorry {order} needs {requirement[order]['Milk']}ml of Milk, Machine has {resource['Milk']}ml of Milk. Please refill\")\n",
    "        sufficient_resources=0\n",
    "    return sufficient_resources\n",
    "    "
   ]
  },
  {
   "cell_type": "code",
   "execution_count": 116,
   "id": "9be8d296-29aa-4f66-97ad-046b2309c5e2",
   "metadata": {},
   "outputs": [],
   "source": [
    "def accept_money(requirement,order):\n",
    "    success=0\n",
    "    print(f\"Good news, we can process your order. Please pay ${requirement[order]['Money']}\")\n",
    "    quarters=int(input(\"Number of quarters deposited: \"))\n",
    "    dimes=int(input(\"Number of dimes deposited: \"))\n",
    "    nickles=int(input(\"Number of nickles deposited: \"))\n",
    "    pennies=int(input(\"Number of pennies deposited: \"))\n",
    "\n",
    "    deposited_amount=(quarters*0.25) + (dimes*0.10)+ (nickles*0.05) + (pennies * 0.01)\n",
    "    print(f\"Thank you, You deposited ${deposited_amount}\")\n",
    "\n",
    "    if deposited_amount < requirement[order]['Money']:\n",
    "        print(\"Sorry, thats not enough to process the order, money refunded.\")\n",
    "    elif deposited_amount > requirement[order]['Money']:\n",
    "        refund= round( deposited_amount - requirement[order]['Money'], 2)\n",
    "        print(f\"Here is ${refund} in change\")\n",
    "        success=1\n",
    "    else:\n",
    "        success=1\n",
    "    return success"
   ]
  },
  {
   "cell_type": "code",
   "execution_count": 87,
   "id": "efd9f43b-f22e-4264-b08d-d0fe783ee196",
   "metadata": {},
   "outputs": [
    {
     "name": "stdout",
     "output_type": "stream",
     "text": [
      "Good news, we can process your order. Please pay $5\n"
     ]
    },
    {
     "name": "stdin",
     "output_type": "stream",
     "text": [
      "Number of quarters deposited:  0\n",
      "Number of dimes deposited:  9\n",
      "Number of nickles deposited:  9\n",
      "Number of pennies deposited:  9\n"
     ]
    },
    {
     "name": "stdout",
     "output_type": "stream",
     "text": [
      "Thank you, You deposited $1.4400000000000002\n",
      "Sorry, thats not enough to process the order, money refunded.\n"
     ]
    },
    {
     "data": {
      "text/plain": [
       "0"
      ]
     },
     "execution_count": 87,
     "metadata": {},
     "output_type": "execute_result"
    }
   ],
   "source": [
    "accept_money(requirement,'Latte')"
   ]
  },
  {
   "cell_type": "code",
   "execution_count": 117,
   "id": "06ff4401-390d-4cfd-ad90-b2102c4a8f2f",
   "metadata": {},
   "outputs": [],
   "source": [
    "def process_order (requirement,resource,order):\n",
    "    for key in requirement[order]:\n",
    "        if key=='Money':\n",
    "            resource[key]+=requirement[order][key]\n",
    "        else:\n",
    "            resource[key]-=requirement[order][key]\n",
    "  "
   ]
  },
  {
   "cell_type": "code",
   "execution_count": null,
   "id": "1d753515-317d-4a37-8b2b-0ff758b9fbce",
   "metadata": {},
   "outputs": [
    {
     "name": "stdin",
     "output_type": "stream",
     "text": [
      "What would you like to have \n",
      " 1. Espresso \n",
      " 2. Latter \n",
      " 3. Cappuccino \n",
      " 4. Report Capuccino\n"
     ]
    },
    {
     "name": "stdout",
     "output_type": "stream",
     "text": [
      "Capuccino\n",
      "Good news, we can process your order. Please pay $7\n"
     ]
    },
    {
     "name": "stdin",
     "output_type": "stream",
     "text": [
      "Number of quarters deposited:  28\n",
      "Number of dimes deposited:  0\n",
      "Number of nickles deposited:  10\n",
      "Number of pennies deposited:  0\n"
     ]
    },
    {
     "name": "stdout",
     "output_type": "stream",
     "text": [
      "Thank you, You deposited $7.5\n",
      "Here is $0.5 in change\n",
      "Processing your order\n",
      "Enjoy your Capuccino\n"
     ]
    },
    {
     "name": "stdin",
     "output_type": "stream",
     "text": [
      "What would you like to have \n",
      " 1. Espresso \n",
      " 2. Latter \n",
      " 3. Cappuccino \n",
      " 4. Report Report\n"
     ]
    },
    {
     "name": "stdout",
     "output_type": "stream",
     "text": [
      "Report\n",
      "Here is the report- \n",
      " Water: 550ml \n",
      " Coffee: 176g \n",
      " Milk: 400ml \n",
      " Money: $7.0\n"
     ]
    }
   ],
   "source": [
    "order=''\n",
    "while order !='off':\n",
    "    order=input(\"What would you like to have \\n 1. Espresso \\n 2. Latter \\n 3. Cappuccino \\n 4. Report\")\n",
    "    print(order)\n",
    "    if order=='Report':\n",
    "        show_report(resource)\n",
    "    else:\n",
    "        if check_resources(requirement,resource,order)==1:\n",
    "            if accept_money(requirement,order)==1:\n",
    "                print(\"Processing your order\")\n",
    "                process_order(requirement,resource,order)\n",
    "                print(f\"Enjoy your {order}\")\n",
    "            \n",
    "    "
   ]
  },
  {
   "cell_type": "code",
   "execution_count": null,
   "id": "71a8c2d4-00bd-455c-b8f3-9b4d5ee73a77",
   "metadata": {},
   "outputs": [],
   "source": []
  }
 ],
 "metadata": {
  "kernelspec": {
   "display_name": "Python 3 (ipykernel)",
   "language": "python",
   "name": "python3"
  },
  "language_info": {
   "codemirror_mode": {
    "name": "ipython",
    "version": 3
   },
   "file_extension": ".py",
   "mimetype": "text/x-python",
   "name": "python",
   "nbconvert_exporter": "python",
   "pygments_lexer": "ipython3",
   "version": "3.13.5"
  }
 },
 "nbformat": 4,
 "nbformat_minor": 5
}

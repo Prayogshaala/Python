{
 "cells": [
  {
   "cell_type": "markdown",
   "id": "ecccba61-66b1-4048-b9fb-a28154937679",
   "metadata": {},
   "source": [
    "### Python Day 10 project - Calculator"
   ]
  },
  {
   "cell_type": "code",
   "execution_count": 1,
   "id": "dea3cbad-0051-4daf-a62e-2adb39664915",
   "metadata": {},
   "outputs": [],
   "source": [
    "def add(n1,n2):\n",
    "    return n1+n2"
   ]
  },
  {
   "cell_type": "code",
   "execution_count": 2,
   "id": "f1b1d7e8-edc1-48a3-979b-dc0ec46c12d1",
   "metadata": {},
   "outputs": [],
   "source": [
    "def subtract(n1,n2):\n",
    "    return n1-n2"
   ]
  },
  {
   "cell_type": "code",
   "execution_count": 3,
   "id": "66294a1c-4e05-4410-a912-285e2febd53e",
   "metadata": {},
   "outputs": [],
   "source": [
    "def multiply(n1,n2):\n",
    "    return n1*n2"
   ]
  },
  {
   "cell_type": "code",
   "execution_count": 4,
   "id": "5236f107-2785-4e58-9494-3c6663c08e25",
   "metadata": {},
   "outputs": [],
   "source": [
    "def divide(n1,n2):\n",
    "    return n1/n2"
   ]
  },
  {
   "cell_type": "code",
   "execution_count": 5,
   "id": "3add96cc-74bd-4091-ae16-2cfca30bf2a3",
   "metadata": {},
   "outputs": [
    {
     "name": "stdout",
     "output_type": "stream",
     "text": [
      "6\n"
     ]
    }
   ],
   "source": [
    "print(multiply(2,3))"
   ]
  },
  {
   "cell_type": "markdown",
   "id": "ff73adb8-a9f6-42be-bcdb-6b1feae191cf",
   "metadata": {},
   "source": [
    "### We can create a variable of function type i.e. add_oper add"
   ]
  },
  {
   "cell_type": "code",
   "execution_count": 6,
   "id": "fb8388d3-ec1f-4e66-aff1-a6f5ffc53c50",
   "metadata": {},
   "outputs": [],
   "source": [
    "operation={\n",
    "    '+':add,\n",
    "    '-':subtract,\n",
    "    '*':multiply,\n",
    "    '/':divide\n",
    "}"
   ]
  },
  {
   "cell_type": "code",
   "execution_count": 8,
   "id": "ac02af6e-08f5-41f6-8a9f-cd51aa1573d2",
   "metadata": {},
   "outputs": [
    {
     "name": "stdout",
     "output_type": "stream",
     "text": [
      "{'+': <function add at 0x000002509F2013A0>, '-': <function subtract at 0x000002509F2639C0>, '*': <function multiply at 0x000002509F294400>, '/': <function divide at 0x000002509F294680>}\n"
     ]
    }
   ],
   "source": [
    "print(operation)"
   ]
  },
  {
   "cell_type": "code",
   "execution_count": 17,
   "id": "67bf303b-f09d-4f61-8462-8c3a9fef16c2",
   "metadata": {},
   "outputs": [
    {
     "name": "stdin",
     "output_type": "stream",
     "text": [
      "Enter the 1st number: 10\n"
     ]
    }
   ],
   "source": [
    "number1=float(input('Enter the 1st number:'))"
   ]
  },
  {
   "cell_type": "code",
   "execution_count": 10,
   "id": "cb032af3-3095-488d-a49a-f8a425e03c3b",
   "metadata": {},
   "outputs": [
    {
     "name": "stdin",
     "output_type": "stream",
     "text": [
      "Please select the operation to be performed:\n",
      "+\n",
      "-\n",
      "*\n",
      "/ *\n"
     ]
    }
   ],
   "source": [
    "selected_operation=input(\"Please select the operation to be performed:\\n+\\n-\\n*\\n/\")"
   ]
  },
  {
   "cell_type": "code",
   "execution_count": 20,
   "id": "0001ba97-b29a-49fe-8014-111a5fe427ad",
   "metadata": {},
   "outputs": [
    {
     "name": "stdin",
     "output_type": "stream",
     "text": [
      "Enter the 2st number: 3\n"
     ]
    }
   ],
   "source": [
    "number2=float(input('Enter the 2st number:'))"
   ]
  },
  {
   "cell_type": "code",
   "execution_count": 21,
   "id": "447f5b1e-80bd-4845-92e7-b9a50ae60fed",
   "metadata": {},
   "outputs": [
    {
     "name": "stdout",
     "output_type": "stream",
     "text": [
      "30.0\n"
     ]
    }
   ],
   "source": [
    "print(operation[selected_operation](number1,number2))"
   ]
  },
  {
   "cell_type": "code",
   "execution_count": 24,
   "id": "e320a564-1f7d-44ff-b897-f39681e6f697",
   "metadata": {},
   "outputs": [
    {
     "name": "stdin",
     "output_type": "stream",
     "text": [
      "Enter the 1st number: 2\n",
      "Please select the operation to be performed:\n",
      "+\n",
      "-\n",
      "*\n",
      "/ /\n",
      "Enter the 2st number: 3\n"
     ]
    },
    {
     "name": "stdout",
     "output_type": "stream",
     "text": [
      "Result is :0.6666666666666666\n"
     ]
    },
    {
     "name": "stdin",
     "output_type": "stream",
     "text": [
      "Do you want to perform additional operation? yes\n",
      "Do you want to use the previous result? no\n",
      "Enter the 1st number: 4\n",
      "Please select the operation to be performed:\n",
      "+\n",
      "-\n",
      "*\n",
      "/ +\n",
      "Enter the 2st number: 5\n"
     ]
    },
    {
     "name": "stdout",
     "output_type": "stream",
     "text": [
      "Result is :9.0\n"
     ]
    },
    {
     "name": "stdin",
     "output_type": "stream",
     "text": [
      "Do you want to perform additional operation? no\n"
     ]
    }
   ],
   "source": [
    "loop='yes'\n",
    "initial_operation=1\n",
    "while loop=='yes':\n",
    "    if initial_operation!=1:\n",
    "        reuse_result=input(\"Do you want to use the previous result?\").lower()\n",
    "        if reuse_result=='yes':\n",
    "            number1=result\n",
    "        else:\n",
    "            number1=float(input('Enter the 1st number:'))\n",
    "    else:\n",
    "            number1=float(input('Enter the 1st number:'))\n",
    "    selected_operation=input(\"Please select the operation to be performed:\\n+\\n-\\n*\\n/\")\n",
    "    number2=float(input('Enter the 2st number:'))\n",
    "    result=operation[selected_operation](number1,number2)\n",
    "    initial_operation=0\n",
    "    print(f\"Result is :{result}\")\n",
    "    loop=input(\"Do you want to perform additional operation?\")\n",
    "    \n",
    "    "
   ]
  },
  {
   "cell_type": "code",
   "execution_count": null,
   "id": "1d561036-c369-4b8c-ac08-9f93a29bc77c",
   "metadata": {},
   "outputs": [],
   "source": []
  }
 ],
 "metadata": {
  "kernelspec": {
   "display_name": "Python 3 (ipykernel)",
   "language": "python",
   "name": "python3"
  },
  "language_info": {
   "codemirror_mode": {
    "name": "ipython",
    "version": 3
   },
   "file_extension": ".py",
   "mimetype": "text/x-python",
   "name": "python",
   "nbconvert_exporter": "python",
   "pygments_lexer": "ipython3",
   "version": "3.13.5"
  }
 },
 "nbformat": 4,
 "nbformat_minor": 5
}

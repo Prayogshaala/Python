{
 "cells": [
  {
   "cell_type": "markdown",
   "id": "6dfa091d-78ea-45cf-8e0a-43d51f5a7f7e",
   "metadata": {},
   "source": [
    "### Python Day 8\n",
    "### &nbsp;&nbsp;&nbsp;Function with inputs\n",
    "### &nbsp;&nbsp;&nbsp;Positional arguments\n",
    "### &nbsp;&nbsp;&nbsp;Keyword arguments\n"
   ]
  },
  {
   "cell_type": "markdown",
   "id": "48fcac3b-7672-47a8-96be-0cb8a96316f7",
   "metadata": {},
   "source": [
    "### Function with a parameter"
   ]
  },
  {
   "cell_type": "code",
   "execution_count": 13,
   "id": "4dbc2fc2-074d-4f19-b53f-20c85ff506df",
   "metadata": {},
   "outputs": [],
   "source": [
    "def greet(user):  ## here user is called parameter\n",
    "    print(f\"Hello {user}\")\n",
    "    print(\"How are you doing?\")\n",
    "    print(\"Its a great day, isnt it?\")"
   ]
  },
  {
   "cell_type": "code",
   "execution_count": 14,
   "id": "cdc82137-019b-478e-9541-869c0f9ceb48",
   "metadata": {},
   "outputs": [
    {
     "name": "stdout",
     "output_type": "stream",
     "text": [
      "Hello Angela\n",
      "How are you doing?\n",
      "Its a great day, isnt it?\n"
     ]
    }
   ],
   "source": [
    "greet('Angela') ## Angela is the argument passed to parameter user"
   ]
  },
  {
   "cell_type": "markdown",
   "id": "6f6e4b60-5876-4672-9f00-2adfe0ea027c",
   "metadata": {},
   "source": [
    "### Function with more than 1 parameter"
   ]
  },
  {
   "cell_type": "code",
   "execution_count": 17,
   "id": "9bbac702-ed45-427e-a0dd-784766b87436",
   "metadata": {},
   "outputs": [],
   "source": [
    "def greet_with (name, location):\n",
    "    print(f\"Hello {name}\")\n",
    "    print(f\"How is it like in {location}?\")"
   ]
  },
  {
   "cell_type": "markdown",
   "id": "cbfc4196-c2a6-4799-ad88-ce98c47a3a77",
   "metadata": {},
   "source": [
    "### Positional argument"
   ]
  },
  {
   "cell_type": "code",
   "execution_count": 18,
   "id": "ee59c3d7-b098-479b-baa5-f107e4f58615",
   "metadata": {},
   "outputs": [
    {
     "name": "stdout",
     "output_type": "stream",
     "text": [
      "Hello Digvijay\n",
      "How is it like in Moncton?\n"
     ]
    }
   ],
   "source": [
    "greet_with(\"Digvijay\",\"Moncton\")"
   ]
  },
  {
   "cell_type": "markdown",
   "id": "ee09f468-b611-4151-bf62-053893b23afd",
   "metadata": {},
   "source": [
    "### Keyword argument"
   ]
  },
  {
   "cell_type": "code",
   "execution_count": 20,
   "id": "61dca801-b532-4cb8-9c4b-a6b75e630e8c",
   "metadata": {},
   "outputs": [
    {
     "name": "stdout",
     "output_type": "stream",
     "text": [
      "Hello Tejas\n",
      "How is it like in Pune?\n"
     ]
    }
   ],
   "source": [
    "greet_with(location='Pune',name='Tejas')"
   ]
  },
  {
   "cell_type": "code",
   "execution_count": null,
   "id": "2e37515e-8a44-4d02-9af3-4487c4a2beeb",
   "metadata": {},
   "outputs": [],
   "source": []
  }
 ],
 "metadata": {
  "kernelspec": {
   "display_name": "Python 3 (ipykernel)",
   "language": "python",
   "name": "python3"
  },
  "language_info": {
   "codemirror_mode": {
    "name": "ipython",
    "version": 3
   },
   "file_extension": ".py",
   "mimetype": "text/x-python",
   "name": "python",
   "nbconvert_exporter": "python",
   "pygments_lexer": "ipython3",
   "version": "3.13.5"
  }
 },
 "nbformat": 4,
 "nbformat_minor": 5
}

{
 "cells": [
  {
   "cell_type": "markdown",
   "id": "6eaa2a17-e291-4718-89cd-69d5c6c5e80a",
   "metadata": {},
   "source": [
    "### Reeborgs world Hurdle 4 solution\n",
    "#### https://reeborg.ca/reeborg.html?lang=en&mode=python&menu=worlds%2Fmenus%2Freeborg_intro_en.json&name=Hurdle%204&url=worlds%2Ftutorial_en%2Fhurdle4.json"
   ]
  },
  {
   "cell_type": "code",
   "execution_count": null,
   "id": "b5cb46de-0c5c-4987-b674-ea7e8db180ab",
   "metadata": {},
   "outputs": [],
   "source": [
    "def turn_right():\n",
    "    turn_left()\n",
    "    turn_left()\n",
    "    turn_left()\n",
    "    \n",
    "    \n",
    "def jump():\n",
    "    turn_left()\n",
    "    while not right_is_clear():\n",
    "        move()\n",
    "    turn_right()\n",
    "    move()\n",
    "    turn_right()\n",
    "    while front_is_clear():\n",
    "        move()\n",
    "    turn_left()\n",
    "    \n",
    "        \n",
    "        \n",
    "        \n",
    "while not at_goal():   \n",
    "    if front_is_clear():\n",
    "        move()\n",
    "    else:\n",
    "        jump()\n",
    "        \n",
    "\n"
   ]
  }
 ],
 "metadata": {
  "kernelspec": {
   "display_name": "Python 3 (ipykernel)",
   "language": "python",
   "name": "python3"
  },
  "language_info": {
   "codemirror_mode": {
    "name": "ipython",
    "version": 3
   },
   "file_extension": ".py",
   "mimetype": "text/x-python",
   "name": "python",
   "nbconvert_exporter": "python",
   "pygments_lexer": "ipython3",
   "version": "3.13.5"
  }
 },
 "nbformat": 4,
 "nbformat_minor": 5
}

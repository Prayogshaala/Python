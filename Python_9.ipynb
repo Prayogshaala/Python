{
 "cells": [
  {
   "cell_type": "markdown",
   "id": "74031508-684f-405b-8cf1-f75f8b7d5092",
   "metadata": {},
   "source": [
    "### Python Day 9\n",
    "### &nbsp;&nbsp;&nbsp;Dictionary\n",
    "### &nbsp;&nbsp;&nbsp;Create a dictionary\n",
    "### &nbsp;&nbsp;&nbsp;Add key-value pair to a dictionary\n",
    "### &nbsp;&nbsp;&nbsp;Nesting of lists and dictionaries"
   ]
  },
  {
   "cell_type": "markdown",
   "id": "5c835635-23c6-46de-9af2-984eeeb3f0b2",
   "metadata": {},
   "source": [
    "### Dictionary is an ordered (since Python 3.7), mutable collection of key-value pairs \n",
    "### keys need to be unique, values can be duplicates\n"
   ]
  },
  {
   "cell_type": "markdown",
   "id": "86d7270a-f141-4f87-93f8-39c468c5d2f4",
   "metadata": {},
   "source": [
    "### Create a dictionary"
   ]
  },
  {
   "cell_type": "code",
   "execution_count": 2,
   "id": "0e1d35de-16c9-4a98-9c15-32ac051a2949",
   "metadata": {},
   "outputs": [
    {
     "name": "stdout",
     "output_type": "stream",
     "text": [
      "{}\n",
      "<class 'dict'>\n"
     ]
    }
   ],
   "source": [
    "dict={}\n",
    "\n",
    "print(dict)\n",
    "print(type(dict))"
   ]
  },
  {
   "cell_type": "code",
   "execution_count": 3,
   "id": "7a5752dc-8932-44d3-9203-567d92ffcc0d",
   "metadata": {},
   "outputs": [
    {
     "name": "stdout",
     "output_type": "stream",
     "text": [
      "{1: 'First value', 'Two': 2, 'Three': 'Third Value'}\n"
     ]
    }
   ],
   "source": [
    "dict={1:\"First value\",\"Two\":2,\"Three\":\"Third Value\"}\n",
    "print(dict)"
   ]
  },
  {
   "cell_type": "markdown",
   "id": "6dc9702a-74bc-40e4-ab0f-54cdbdadb63d",
   "metadata": {},
   "source": [
    "### Add key-value pair to the dictionary"
   ]
  },
  {
   "cell_type": "code",
   "execution_count": 4,
   "id": "d252abc6-5b5f-4823-b778-00dcc6dedd53",
   "metadata": {},
   "outputs": [
    {
     "name": "stdout",
     "output_type": "stream",
     "text": [
      "{1: 'First value', 'Two': 2, 'Three': 'Third Value', 'four': '4th value added'}\n"
     ]
    }
   ],
   "source": [
    "dict['four']='4th value added'\n",
    "print(dict)"
   ]
  },
  {
   "cell_type": "markdown",
   "id": "fad1eafd-fa3c-46ed-9b57-a50977ea9832",
   "metadata": {},
   "source": [
    "### Nesting of lists and dictionaries"
   ]
  },
  {
   "cell_type": "code",
   "execution_count": 7,
   "id": "a0fc7969-0d36-4599-b03c-46bb1a16fa28",
   "metadata": {},
   "outputs": [],
   "source": [
    "travel_log=    {\n",
    "        \"France\":[\"Paris\",\"Lille\",\"Frankfurt\"],\n",
    "        \"Germany\":[\"Berlin\",\"Munich\"]\n",
    "    }"
   ]
  },
  {
   "cell_type": "code",
   "execution_count": 9,
   "id": "62679335-5608-4ceb-9b46-cbe57a966f3b",
   "metadata": {},
   "outputs": [
    {
     "name": "stdout",
     "output_type": "stream",
     "text": [
      "Lille\n"
     ]
    }
   ],
   "source": [
    "print(travel_log['France'][1])"
   ]
  },
  {
   "cell_type": "code",
   "execution_count": 10,
   "id": "2e10608d-44cb-49f8-a46b-a1296571530e",
   "metadata": {},
   "outputs": [],
   "source": [
    "travel_log=    {\n",
    "        \"France\":{\n",
    "            \"cities_visited\":[\"Paris\",\"Lille\",\"Frankfurt\"],\n",
    "            \"Num_of_visits\":5\n",
    "        },\n",
    "        \"Germany\":{\n",
    "            \"cities_visited\":[\"Berlin\",\"Munich\"],\n",
    "            \"num_of_visits\":3\n",
    "        }\n",
    "    }"
   ]
  },
  {
   "cell_type": "code",
   "execution_count": 11,
   "id": "9bedcc20-9951-44be-9748-f45e20c446e0",
   "metadata": {},
   "outputs": [
    {
     "name": "stdout",
     "output_type": "stream",
     "text": [
      "Munich\n"
     ]
    }
   ],
   "source": [
    "print(travel_log['Germany']['cities_visited'][1])"
   ]
  },
  {
   "cell_type": "code",
   "execution_count": null,
   "id": "99c07634-d5fa-4b75-b519-bd0a5fb6171a",
   "metadata": {},
   "outputs": [],
   "source": []
  }
 ],
 "metadata": {
  "kernelspec": {
   "display_name": "Python 3 (ipykernel)",
   "language": "python",
   "name": "python3"
  },
  "language_info": {
   "codemirror_mode": {
    "name": "ipython",
    "version": 3
   },
   "file_extension": ".py",
   "mimetype": "text/x-python",
   "name": "python",
   "nbconvert_exporter": "python",
   "pygments_lexer": "ipython3",
   "version": "3.13.5"
  }
 },
 "nbformat": 4,
 "nbformat_minor": 5
}

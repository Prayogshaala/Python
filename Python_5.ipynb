{
 "cells": [
  {
   "cell_type": "markdown",
   "id": "c979a0ef-302a-46be-9b31-e93d3e3dadb0",
   "metadata": {},
   "source": [
    "# Day 5\n",
    "### &nbsp;&nbsp;&nbsp;Loops\n",
    "### &nbsp;&nbsp;&nbsp;For loop\n",
    "### &nbsp;&nbsp;&nbsp;Find max number from a list\n",
    "### &nbsp;&nbsp;&nbsp;max function\n",
    "### &nbsp;&nbsp;&nbsp;range() function\n",
    "### &nbsp;&nbsp;&nbsp;Sum of all numbers from 1 to 100\n",
    "### &nbsp;&nbsp;&nbsp;FizzBuzz\n"
   ]
  },
  {
   "cell_type": "markdown",
   "id": "3e24fe86-57e7-4fc3-80c0-a4d292034207",
   "metadata": {},
   "source": [
    "### Loops are used to iterate and execute the same code repeatedly"
   ]
  },
  {
   "cell_type": "code",
   "execution_count": 2,
   "id": "7da1afe0-9065-4a6a-b948-9388beee7fb3",
   "metadata": {},
   "outputs": [
    {
     "name": "stdout",
     "output_type": "stream",
     "text": [
      "Ned\n",
      "Arya\n",
      "Sansa\n"
     ]
    }
   ],
   "source": [
    "people=['Ned','Arya','Sansa']\n",
    "\n",
    "for person in people:\n",
    "    print(person)"
   ]
  },
  {
   "cell_type": "markdown",
   "id": "ebb1a69a-4d7d-4079-826b-7ba9f63f582f",
   "metadata": {},
   "source": [
    "### Find the max number from a list"
   ]
  },
  {
   "cell_type": "code",
   "execution_count": 5,
   "id": "1ddd7e52-480e-4168-8852-f9de2d1295e1",
   "metadata": {},
   "outputs": [],
   "source": [
    "def find_max (num_list):\n",
    "    max=0\n",
    "    for num in num_list:\n",
    "        if max<num:\n",
    "            max=num\n",
    "    return max"
   ]
  },
  {
   "cell_type": "code",
   "execution_count": 6,
   "id": "4faf7e97-b5d1-4220-bfa9-939d689ee68e",
   "metadata": {},
   "outputs": [
    {
     "name": "stdout",
     "output_type": "stream",
     "text": [
      "Max score is:93\n"
     ]
    }
   ],
   "source": [
    "scores=[89,45,23,67,34,78,93,65,67,87,24]\n",
    "print(f'Max score is:{find_max(scores)}')"
   ]
  },
  {
   "cell_type": "code",
   "execution_count": 8,
   "id": "9c60f222-0c8d-4b1c-a1cf-598ee6261392",
   "metadata": {},
   "outputs": [
    {
     "name": "stdout",
     "output_type": "stream",
     "text": [
      "Max score is: 93\n"
     ]
    }
   ],
   "source": [
    "## There is ofcourse a inbuilt funciton provided by python to find max from a list\n",
    "print(f'Max score is: {max(scores)}') "
   ]
  },
  {
   "cell_type": "markdown",
   "id": "afebc68f-07ed-4f69-b21f-16d291bc5ec0",
   "metadata": {},
   "source": [
    "### range() function returns a sequence of numbers. Commonly used for looping.\n",
    "#### i.e. range (1,10) will return numbers from 1 to 9. 10 is excluded\n",
    "#### we can also define the step size i.e. range (1,10,2) will return 1,3,5,7,9"
   ]
  },
  {
   "cell_type": "code",
   "execution_count": 9,
   "id": "e2910e23-96dd-4bcf-9b76-f988c8f544be",
   "metadata": {},
   "outputs": [
    {
     "name": "stdout",
     "output_type": "stream",
     "text": [
      "1\n",
      "3\n",
      "5\n",
      "7\n",
      "9\n"
     ]
    }
   ],
   "source": [
    "for num in range(1,10,2):\n",
    "    print(num)"
   ]
  },
  {
   "cell_type": "code",
   "execution_count": 13,
   "id": "33681e25-1eb5-4327-9d64-2eec8b276a2d",
   "metadata": {},
   "outputs": [
    {
     "name": "stdout",
     "output_type": "stream",
     "text": [
      "10\n",
      "9\n",
      "8\n",
      "7\n",
      "6\n",
      "5\n",
      "4\n",
      "3\n",
      "2\n"
     ]
    }
   ],
   "source": [
    "for num in range(10,1,-1):\n",
    "    print(num)"
   ]
  },
  {
   "cell_type": "code",
   "execution_count": 14,
   "id": "05520c4d-66f7-4633-88f4-094d1cadddb7",
   "metadata": {},
   "outputs": [
    {
     "name": "stdout",
     "output_type": "stream",
     "text": [
      "5050\n"
     ]
    }
   ],
   "source": [
    "sum=0\n",
    "for num in range(1,101):\n",
    "    sum+=num\n",
    "print(sum)"
   ]
  },
  {
   "cell_type": "markdown",
   "id": "7d62a296-2755-4d2b-86a2-a25b58a41dc1",
   "metadata": {},
   "source": [
    "### FizzBuzz\n",
    "#### We need to print all the number from 1 to 100 both included\n",
    "#### If the number is divisible by 3 we print Fizz instead of the number\n",
    "#### If the number is divisible by 5 we print Buzz instead of the number\n",
    "#### If the number is divisible by 3 & 5 we print FizzBuzz instead of the number"
   ]
  },
  {
   "cell_type": "code",
   "execution_count": 17,
   "id": "8a54e5f5-f36f-4a56-a5ac-24d7ac098cb9",
   "metadata": {},
   "outputs": [
    {
     "name": "stdout",
     "output_type": "stream",
     "text": [
      "1\n",
      "2\n",
      "Fizz\n",
      "4\n",
      "Buzz\n",
      "Fizz\n",
      "7\n",
      "8\n",
      "Fizz\n",
      "Buzz\n",
      "11\n",
      "Fizz\n",
      "13\n",
      "14\n",
      "FizzBuzz\n",
      "16\n",
      "17\n",
      "Fizz\n",
      "19\n",
      "Buzz\n",
      "Fizz\n",
      "22\n",
      "23\n",
      "Fizz\n",
      "Buzz\n",
      "26\n",
      "Fizz\n",
      "28\n",
      "29\n",
      "FizzBuzz\n",
      "31\n",
      "32\n",
      "Fizz\n",
      "34\n",
      "Buzz\n",
      "Fizz\n",
      "37\n",
      "38\n",
      "Fizz\n",
      "Buzz\n",
      "41\n",
      "Fizz\n",
      "43\n",
      "44\n",
      "FizzBuzz\n",
      "46\n",
      "47\n",
      "Fizz\n",
      "49\n",
      "Buzz\n",
      "Fizz\n",
      "52\n",
      "53\n",
      "Fizz\n",
      "Buzz\n",
      "56\n",
      "Fizz\n",
      "58\n",
      "59\n",
      "FizzBuzz\n",
      "61\n",
      "62\n",
      "Fizz\n",
      "64\n",
      "Buzz\n",
      "Fizz\n",
      "67\n",
      "68\n",
      "Fizz\n",
      "Buzz\n",
      "71\n",
      "Fizz\n",
      "73\n",
      "74\n",
      "FizzBuzz\n",
      "76\n",
      "77\n",
      "Fizz\n",
      "79\n",
      "Buzz\n",
      "Fizz\n",
      "82\n",
      "83\n",
      "Fizz\n",
      "Buzz\n",
      "86\n",
      "Fizz\n",
      "88\n",
      "89\n",
      "FizzBuzz\n",
      "91\n",
      "92\n",
      "Fizz\n",
      "94\n",
      "Buzz\n",
      "Fizz\n",
      "97\n",
      "98\n",
      "Fizz\n",
      "Buzz\n"
     ]
    }
   ],
   "source": [
    "for num in range (1,101):\n",
    "    msg=''\n",
    "    if num%3==0:\n",
    "        if num%5==0:\n",
    "            msg='FizzBuzz'\n",
    "        else:\n",
    "            msg='Fizz'\n",
    "    elif num%5==0:\n",
    "        msg='Buzz'\n",
    "    else:\n",
    "        msg=num\n",
    "    print(msg)"
   ]
  },
  {
   "cell_type": "code",
   "execution_count": null,
   "id": "14f133f5-6d69-4eec-aafb-d61f4a542d4d",
   "metadata": {},
   "outputs": [],
   "source": []
  }
 ],
 "metadata": {
  "kernelspec": {
   "display_name": "Python 3 (ipykernel)",
   "language": "python",
   "name": "python3"
  },
  "language_info": {
   "codemirror_mode": {
    "name": "ipython",
    "version": 3
   },
   "file_extension": ".py",
   "mimetype": "text/x-python",
   "name": "python",
   "nbconvert_exporter": "python",
   "pygments_lexer": "ipython3",
   "version": "3.13.5"
  }
 },
 "nbformat": 4,
 "nbformat_minor": 5
}

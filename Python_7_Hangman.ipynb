{
 "cells": [
  {
   "cell_type": "markdown",
   "id": "cd89ded2-457b-4679-97fe-304446f92f2d",
   "metadata": {},
   "source": [
    "### Python 7 Hangman"
   ]
  },
  {
   "cell_type": "code",
   "execution_count": 97,
   "id": "873d03e1-f440-42f5-92c7-8f99008816ec",
   "metadata": {},
   "outputs": [],
   "source": [
    "import random"
   ]
  },
  {
   "cell_type": "code",
   "execution_count": 114,
   "id": "878b65e7-a3b5-47fc-b6d8-cbf9f7381323",
   "metadata": {},
   "outputs": [
    {
     "name": "stdout",
     "output_type": "stream",
     "text": [
      "champion\n"
     ]
    }
   ],
   "source": [
    "words=['champion','winner','resiliant']\n",
    "word=random.choice(words)\n",
    "print(word)\n",
    "users_word=''\n",
    "lives=6"
   ]
  },
  {
   "cell_type": "code",
   "execution_count": 111,
   "id": "ad3e28e0-798a-45f4-be54-81a1aa8dc646",
   "metadata": {},
   "outputs": [],
   "source": [
    "def check_letter(word,users_guess):\n",
    "    global users_word\n",
    "    global lives\n",
    "    i=0\n",
    "    match=0\n",
    "    for letter in word:\n",
    "        if letter==users_guess:\n",
    "            users_word[i]=users_guess\n",
    "            match=1\n",
    "        i+=1\n",
    "    if match==0:\n",
    "        lives-=1\n",
    "    return users_word"
   ]
  },
  {
   "cell_type": "code",
   "execution_count": 100,
   "id": "43298141-b630-4b27-9341-bb59348b4f0d",
   "metadata": {},
   "outputs": [],
   "source": [
    "def create_user_word(word):\n",
    "    global users_word\n",
    "    users_word=''\n",
    "    users_word=['_']*len(word)\n",
    "    print(\"\".join(users_word))"
   ]
  },
  {
   "cell_type": "code",
   "execution_count": 115,
   "id": "7e29d992-5a37-483b-a2d7-3879f1647815",
   "metadata": {},
   "outputs": [],
   "source": [
    "\n",
    "def capture_guess(word):\n",
    "    global users_word\n",
    "    global lives\n",
    "    lives=6\n",
    "    create_user_word(word)\n",
    "    for i in range(len(word)):\n",
    "        if lives==0:\n",
    "            print('You loss')\n",
    "            break\n",
    "        else:\n",
    "            users_guess=''\n",
    "            users_guess=input(\"Please guess a letter:\\n\").lower()\n",
    "            print(\"\".join(check_letter(word,users_guess)))\n",
    "            if '_' not in users_word:\n",
    "                print('You Win')\n",
    "                break\n",
    "    return 1"
   ]
  },
  {
   "cell_type": "code",
   "execution_count": 116,
   "id": "6e98cacd-25d4-4297-b231-4eb4f07eaec3",
   "metadata": {},
   "outputs": [
    {
     "name": "stdout",
     "output_type": "stream",
     "text": [
      "________\n"
     ]
    },
    {
     "name": "stdin",
     "output_type": "stream",
     "text": [
      "Please guess a letter:\n",
      " o\n"
     ]
    },
    {
     "name": "stdout",
     "output_type": "stream",
     "text": [
      "______o_\n"
     ]
    },
    {
     "name": "stdin",
     "output_type": "stream",
     "text": [
      "Please guess a letter:\n",
      " r\n"
     ]
    },
    {
     "name": "stdout",
     "output_type": "stream",
     "text": [
      "______o_\n"
     ]
    },
    {
     "name": "stdin",
     "output_type": "stream",
     "text": [
      "Please guess a letter:\n",
      " r\n"
     ]
    },
    {
     "name": "stdout",
     "output_type": "stream",
     "text": [
      "______o_\n"
     ]
    },
    {
     "name": "stdin",
     "output_type": "stream",
     "text": [
      "Please guess a letter:\n",
      " r\n"
     ]
    },
    {
     "name": "stdout",
     "output_type": "stream",
     "text": [
      "______o_\n"
     ]
    },
    {
     "name": "stdin",
     "output_type": "stream",
     "text": [
      "Please guess a letter:\n",
      " r\n"
     ]
    },
    {
     "name": "stdout",
     "output_type": "stream",
     "text": [
      "______o_\n"
     ]
    },
    {
     "name": "stdin",
     "output_type": "stream",
     "text": [
      "Please guess a letter:\n",
      " r\n"
     ]
    },
    {
     "name": "stdout",
     "output_type": "stream",
     "text": [
      "______o_\n"
     ]
    },
    {
     "name": "stdin",
     "output_type": "stream",
     "text": [
      "Please guess a letter:\n",
      " r\n"
     ]
    },
    {
     "name": "stdout",
     "output_type": "stream",
     "text": [
      "______o_\n",
      "You loss\n"
     ]
    },
    {
     "data": {
      "text/plain": [
       "1"
      ]
     },
     "execution_count": 116,
     "metadata": {},
     "output_type": "execute_result"
    }
   ],
   "source": [
    "capture_guess(word)"
   ]
  },
  {
   "cell_type": "code",
   "execution_count": null,
   "id": "fb2104d3-9251-4234-8732-2cdefc9f5760",
   "metadata": {},
   "outputs": [],
   "source": []
  }
 ],
 "metadata": {
  "kernelspec": {
   "display_name": "Python 3 (ipykernel)",
   "language": "python",
   "name": "python3"
  },
  "language_info": {
   "codemirror_mode": {
    "name": "ipython",
    "version": 3
   },
   "file_extension": ".py",
   "mimetype": "text/x-python",
   "name": "python",
   "nbconvert_exporter": "python",
   "pygments_lexer": "ipython3",
   "version": "3.13.5"
  }
 },
 "nbformat": 4,
 "nbformat_minor": 5
}

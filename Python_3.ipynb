{
 "cells": [
  {
   "cell_type": "markdown",
   "id": "98de2b0f-a13c-444d-bd08-fc66c27bfe3e",
   "metadata": {},
   "source": [
    "# Day 3\n",
    "### &nbsp;&nbsp;&nbsp;if / else\n",
    "### &nbsp;&nbsp;&nbsp;Conditional operators\n",
    "### &nbsp;&nbsp;&nbsp;Find if a number is odd or even\n",
    "### &nbsp;&nbsp;&nbsp; Nested if/else and elif"
   ]
  },
  {
   "cell_type": "markdown",
   "id": "2ca2c3b1-08ab-458e-8508-7227a3f19f00",
   "metadata": {},
   "source": [
    "### We can use if/else to implement conditional logic"
   ]
  },
  {
   "cell_type": "code",
   "execution_count": 4,
   "id": "cd390e8b-b0b1-42f0-b393-d7ff8d292ada",
   "metadata": {},
   "outputs": [
    {
     "name": "stdin",
     "output_type": "stream",
     "text": [
      "What is your height? 121\n"
     ]
    },
    {
     "name": "stdout",
     "output_type": "stream",
     "text": [
      "You are tall enough for the ride.\n"
     ]
    }
   ],
   "source": [
    "height=int(input(\"What is your height?\"))\n",
    "\n",
    "if height>= 120:\n",
    "    print(\"You are tall enough for the ride.\")\n",
    "else:\n",
    "    print(\"Sorry you are too short for the ride.\")\n",
    "    "
   ]
  },
  {
   "cell_type": "markdown",
   "id": "3491234b-9388-4a72-b1c9-b1647e77fde5",
   "metadata": {},
   "source": [
    "### Conditional operators are used to check conditions in the if statement\n",
    "\n",
    "#### >  Greater than\n",
    "#### >= Greater than or equal to\n",
    "#### <  Less than\n",
    "#### <= less than or equal to\n",
    "#### ==  Equal to\n",
    "#### !=  Not equal to\n",
    "#### % Modulo  - 10 % 3 will return 1\n",
    "\n"
   ]
  },
  {
   "cell_type": "markdown",
   "id": "f0b3d00a-e78b-4256-8c37-0e1aab726634",
   "metadata": {},
   "source": [
    "### Find if given number is odd or even"
   ]
  },
  {
   "cell_type": "code",
   "execution_count": 6,
   "id": "af52c6ea-9380-4fb8-88bb-9315d95b714a",
   "metadata": {},
   "outputs": [
    {
     "name": "stdin",
     "output_type": "stream",
     "text": [
      "Please enter the number: 4\n"
     ]
    },
    {
     "name": "stdout",
     "output_type": "stream",
     "text": [
      "4 is an even number\n"
     ]
    }
   ],
   "source": [
    "num=int(input(\"Please enter the number:\"))\n",
    "\n",
    "if (num % 2==0):\n",
    "    print(f\"{num} is an even number\")\n",
    "else:\n",
    "    print(f\"{num} is an odd number\")\n",
    "    "
   ]
  },
  {
   "cell_type": "code",
   "execution_count": 10,
   "id": "49994670-f6e1-4e56-9cd1-b6d8a808d6eb",
   "metadata": {},
   "outputs": [
    {
     "name": "stdin",
     "output_type": "stream",
     "text": [
      "What is your height? 110\n"
     ]
    },
    {
     "name": "stdout",
     "output_type": "stream",
     "text": [
      "Sorry you are too short for the ride.\n"
     ]
    }
   ],
   "source": [
    "## We can nest if and else statements. Also, use elif when we have more than one condition\n",
    "height=int(input(\"What is your height?\"))\n",
    "\n",
    "\n",
    "if height >= 120:\n",
    "    print(\"Please proceed to the ticket counter.\")\n",
    "    age=int(input(\"What is your age?\"))\n",
    "    if age < 10:\n",
    "        print(\"Please pay $5 for the ticket.\")\n",
    "    elif age <18:. \n",
    "        print(\"Please pay $10 for the ticket.\")\n",
    "    else:\n",
    "        print(\"Please pay $15 for the ticket.\")\n",
    "else:\n",
    "    print(\"Sorry, you are too short for the ride.\")"
   ]
  },
  {
   "cell_type": "markdown",
   "id": "9c5c7daa-46fc-4c91-b9d4-d8f8aeaa21da",
   "metadata": {},
   "source": [
    "### Logical Operators - we can combine more than one condition with logical operators\n",
    "\n",
    "#### and- All the conditions have to be true\n",
    "#### or - One of the conditions have to be true\n",
    "#### Not- Negation of the condition i.e. if a!=10 can also be written as if not a==10"
   ]
  },
  {
   "cell_type": "code",
   "execution_count": 18,
   "id": "3b50588c-2d30-4cf9-a3d6-f8013c29a028",
   "metadata": {},
   "outputs": [
    {
     "name": "stdout",
     "output_type": "stream",
     "text": [
      "a is not 10\n"
     ]
    }
   ],
   "source": [
    "a=11\n",
    "\n",
    "if a!=10:\n",
    "    print(\"a is not 10\")\n"
   ]
  },
  {
   "cell_type": "code",
   "execution_count": 19,
   "id": "b2aa6bdf-ee11-4455-819c-865da4bd3357",
   "metadata": {},
   "outputs": [
    {
     "name": "stdout",
     "output_type": "stream",
     "text": [
      "a is not 10\n"
     ]
    }
   ],
   "source": [
    "a=11\n",
    "if not a==10:\n",
    "    print(\"a is not 10\")"
   ]
  },
  {
   "cell_type": "code",
   "execution_count": null,
   "id": "ee30565c-d084-4cb9-80f2-00db9f00459c",
   "metadata": {},
   "outputs": [],
   "source": []
  }
 ],
 "metadata": {
  "kernelspec": {
   "display_name": "Python 3 (ipykernel)",
   "language": "python",
   "name": "python3"
  },
  "language_info": {
   "codemirror_mode": {
    "name": "ipython",
    "version": 3
   },
   "file_extension": ".py",
   "mimetype": "text/x-python",
   "name": "python",
   "nbconvert_exporter": "python",
   "pygments_lexer": "ipython3",
   "version": "3.13.5"
  }
 },
 "nbformat": 4,
 "nbformat_minor": 5
}

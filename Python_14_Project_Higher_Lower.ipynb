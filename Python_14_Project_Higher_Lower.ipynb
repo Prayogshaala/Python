{
 "cells": [
  {
   "cell_type": "markdown",
   "id": "fd49731b-a754-4b84-ae02-fe3c7e438c2f",
   "metadata": {},
   "source": [
    "### Python 14- Project Higher-Lower"
   ]
  },
  {
   "cell_type": "code",
   "execution_count": 71,
   "id": "7cc1a67a-a4e0-45c0-a9c2-8bd599b61a0e",
   "metadata": {},
   "outputs": [],
   "source": [
    "import random\n",
    "import Ascii_logos"
   ]
  },
  {
   "cell_type": "code",
   "execution_count": 72,
   "id": "74199134-da2c-4143-918f-00d0d26d97b2",
   "metadata": {},
   "outputs": [
    {
     "name": "stdout",
     "output_type": "stream",
     "text": [
      "\n",
      "\n",
      "  _    _ _       _               \n",
      " | |  | (_)     | |              \n",
      " | |__| |_  __ _| |__   ___ _ __ \n",
      " |  __  | |/ _` | '_ \\ / _ \\ '__|\n",
      " | |  | | | (_| | | | |  __/ |   \n",
      " |_|  |_|_|\\__, |_| |_|\\___|_|   \n",
      " | |        __/ |                \n",
      " | |     __|___/    _____ _ __   \n",
      " | |    / _ \\ \\ /\\ / / _ \\ '__|  \n",
      " | |___| (_) \\ V  V /  __/ |     \n",
      " |______\\___/ \\_/\\_/ \\___|_|     \n",
      "                                 \n",
      "                                 \n",
      "\n"
     ]
    }
   ],
   "source": [
    "print(Ascii_logos.Higher_Lower)"
   ]
  },
  {
   "cell_type": "code",
   "execution_count": 5,
   "id": "aaa5e122-ca09-48ae-82c1-870dc2bc4d22",
   "metadata": {},
   "outputs": [],
   "source": [
    "top_followed = [\n",
    "    {\"name\": \"Cristiano Ronaldo\",      \"follower_count\": 656_000_000, \"occupation\": \"Footballer\",       \"country\": \"Portugal\"},\n",
    "    {\"name\": \"Lionel Messi\",           \"follower_count\": 505_000_000, \"occupation\": \"Footballer\",       \"country\": \"Argentina\"},\n",
    "    {\"name\": \"Selena Gomez\",           \"follower_count\": 419_000_000, \"occupation\": \"Singer/Actress\",   \"country\": \"United States\"},\n",
    "    {\"name\": \"Dwayne Johnson\",         \"follower_count\": 393_000_000, \"occupation\": \"Actor / Wrestler\", \"country\": \"United States\"},\n",
    "    {\"name\": \"Kylie Jenner\",           \"follower_count\": 393_000_000, \"occupation\": \"Reality Star / Businesswoman\", \"country\": \"United States\"},\n",
    "    {\"name\": \"Ariana Grande\",          \"follower_count\": 375_000_000, \"occupation\": \"Singer/Actress\",   \"country\": \"United States\"},\n",
    "    {\"name\": \"Kim Kardashian\",         \"follower_count\": 356_000_000, \"occupation\": \"Reality Star / Businesswoman\", \"country\": \"United States\"},\n",
    "    {\"name\": \"Beyoncé\",                \"follower_count\": 311_000_000, \"occupation\": \"Singer/Actress\",   \"country\": \"United States\"},\n",
    "    {\"name\": \"Khloé Kardashian\",       \"follower_count\": 303_000_000, \"occupation\": \"Reality Star / Businesswoman\", \"country\": \"United States\"},\n",
    "    {\"name\": \"Justin Bieber\",          \"follower_count\": 294_000_000, \"occupation\": \"Singer\",           \"country\": \"Canada\"},\n",
    "    {\"name\": \"Taylor Swift\",           \"follower_count\": 282_000_000, \"occupation\": \"Singer/Actress\",   \"country\": \"United States\"},\n",
    "    {\"name\": \"National Geographic\",    \"follower_count\": 278_000_000, \"occupation\": \"Magazine / Media\", \"country\": \"United States\"},  # included as media for context\n",
    "    {\"name\": \"Virat Kohli\",            \"follower_count\": 270_000_000, \"occupation\": \"Cricketer\",        \"country\": \"India\"},\n",
    "    {\"name\": \"Jennifer Lopez\",         \"follower_count\": 248_000_000, \"occupation\": \"Singer/Actress\",   \"country\": \"United States\"},\n",
    "    {\"name\": \"Neymar Jr\",              \"follower_count\": 228_000_000, \"occupation\": \"Footballer\",       \"country\": \"Brazil\"},\n",
    "    {\"name\": \"Nicki Minaj\",            \"follower_count\": 225_000_000, \"occupation\": \"Musician\",         \"country\": \"United States\"},\n",
    "    {\"name\": \"Kourtney Kardashian\",    \"follower_count\": 220_000_000, \"occupation\": \"Reality Star / Model\", \"country\": \"United States\"},\n",
    "    {\"name\": \"Miley Cyrus\",            \"follower_count\": 212_000_000, \"occupation\": \"Musician / Actress\", \"country\": \"United States\"},\n",
    "    {\"name\": \"Katy Perry\",             \"follower_count\": 204_000_000, \"occupation\": \"Singer\",           \"country\": \"United States\"},\n",
    "    {\"name\": \"Zendaya\",                \"follower_count\": 178_000_000, \"occupation\": \"Actress / Singer\", \"country\": \"United States\"}\n",
    "]\n",
    "\n"
   ]
  },
  {
   "cell_type": "code",
   "execution_count": 63,
   "id": "f70e3d8c-cccf-4dd5-a218-e9abb51a9cc6",
   "metadata": {},
   "outputs": [],
   "source": [
    "def chech_guess(guess, follower_count1, follower_count2):\n",
    "    high=0\n",
    "    if follower_count2 > follower_count1:\n",
    "        high=1\n",
    "    else:\n",
    "        high=2\n",
    "    if guess==high:\n",
    "        return 1  \n",
    "    else:\n",
    "        return 0"
   ]
  },
  {
   "cell_type": "code",
   "execution_count": 70,
   "id": "529b31ec-76ee-47eb-a394-2c2cb5a740f1",
   "metadata": {},
   "outputs": [
    {
     "name": "stdout",
     "output_type": "stream",
     "text": [
      "Person1\n",
      "\t Name:Katy Perry\n",
      "\t occupation:Singer\n",
      "\t country:United States\n",
      "\t follower_count:204000000\n",
      "Person 2\n",
      "\t Name:Justin Bieber\n",
      "\t occupation:Singer\n",
      "\t country:Canada\n"
     ]
    },
    {
     "name": "stdin",
     "output_type": "stream",
     "text": [
      "Person 2 had higher (type 1) or lower (type 2) follower count that person1 1\n"
     ]
    },
    {
     "name": "stdout",
     "output_type": "stream",
     "text": [
      "1\n",
      "Correct\n",
      "\t follower_count for Justin Bieber is:294000000\n",
      "Person1\n",
      "\t Name:Justin Bieber\n",
      "\t occupation:Singer\n",
      "\t country:Canada\n",
      "\t follower_count:294000000\n",
      "Person 2\n",
      "\t Name:Miley Cyrus\n",
      "\t occupation:Musician / Actress\n",
      "\t country:United States\n"
     ]
    },
    {
     "name": "stdin",
     "output_type": "stream",
     "text": [
      "Person 2 had higher (type 1) or lower (type 2) follower count that person1 2\n"
     ]
    },
    {
     "name": "stdout",
     "output_type": "stream",
     "text": [
      "1\n",
      "Correct\n",
      "\t follower_count for Miley Cyrus is:212000000\n",
      "Person1\n",
      "\t Name:Miley Cyrus\n",
      "\t occupation:Musician / Actress\n",
      "\t country:United States\n",
      "\t follower_count:212000000\n",
      "Person 2\n",
      "\t Name:Khloé Kardashian\n",
      "\t occupation:Reality Star / Businesswoman\n",
      "\t country:United States\n"
     ]
    },
    {
     "name": "stdin",
     "output_type": "stream",
     "text": [
      "Person 2 had higher (type 1) or lower (type 2) follower count that person1 1\n"
     ]
    },
    {
     "name": "stdout",
     "output_type": "stream",
     "text": [
      "1\n",
      "Correct\n",
      "\t follower_count for Khloé Kardashian is:303000000\n",
      "Person1\n",
      "\t Name:Khloé Kardashian\n",
      "\t occupation:Reality Star / Businesswoman\n",
      "\t country:United States\n",
      "\t follower_count:303000000\n",
      "Person 2\n",
      "\t Name:Zendaya\n",
      "\t occupation:Actress / Singer\n",
      "\t country:United States\n"
     ]
    },
    {
     "name": "stdin",
     "output_type": "stream",
     "text": [
      "Person 2 had higher (type 1) or lower (type 2) follower count that person1 2\n"
     ]
    },
    {
     "name": "stdout",
     "output_type": "stream",
     "text": [
      "1\n",
      "Correct\n",
      "\t follower_count for Zendaya is:178000000\n",
      "Person1\n",
      "\t Name:Zendaya\n",
      "\t occupation:Actress / Singer\n",
      "\t country:United States\n",
      "\t follower_count:178000000\n",
      "Person 2\n",
      "\t Name:Dwayne Johnson\n",
      "\t occupation:Actor / Wrestler\n",
      "\t country:United States\n"
     ]
    },
    {
     "name": "stdin",
     "output_type": "stream",
     "text": [
      "Person 2 had higher (type 1) or lower (type 2) follower count that person1 1\n"
     ]
    },
    {
     "name": "stdout",
     "output_type": "stream",
     "text": [
      "1\n",
      "Correct\n",
      "\t follower_count for Dwayne Johnson is:393000000\n",
      "Person1\n",
      "\t Name:Dwayne Johnson\n",
      "\t occupation:Actor / Wrestler\n",
      "\t country:United States\n",
      "\t follower_count:393000000\n",
      "Person 2\n",
      "\t Name:Beyoncé\n",
      "\t occupation:Singer/Actress\n",
      "\t country:United States\n"
     ]
    },
    {
     "name": "stdin",
     "output_type": "stream",
     "text": [
      "Person 2 had higher (type 1) or lower (type 2) follower count that person1 2\n"
     ]
    },
    {
     "name": "stdout",
     "output_type": "stream",
     "text": [
      "1\n",
      "Correct\n",
      "\t follower_count for Beyoncé is:311000000\n",
      "Person1\n",
      "\t Name:Beyoncé\n",
      "\t occupation:Singer/Actress\n",
      "\t country:United States\n",
      "\t follower_count:311000000\n",
      "Person 2\n",
      "\t Name:Miley Cyrus\n",
      "\t occupation:Musician / Actress\n",
      "\t country:United States\n"
     ]
    },
    {
     "name": "stdin",
     "output_type": "stream",
     "text": [
      "Person 2 had higher (type 1) or lower (type 2) follower count that person1 2\n"
     ]
    },
    {
     "name": "stdout",
     "output_type": "stream",
     "text": [
      "1\n",
      "Correct\n",
      "\t follower_count for Miley Cyrus is:212000000\n",
      "Person1\n",
      "\t Name:Miley Cyrus\n",
      "\t occupation:Musician / Actress\n",
      "\t country:United States\n",
      "\t follower_count:212000000\n",
      "Person 2\n",
      "\t Name:Katy Perry\n",
      "\t occupation:Singer\n",
      "\t country:United States\n"
     ]
    },
    {
     "name": "stdin",
     "output_type": "stream",
     "text": [
      "Person 2 had higher (type 1) or lower (type 2) follower count that person1 2\n"
     ]
    },
    {
     "name": "stdout",
     "output_type": "stream",
     "text": [
      "1\n",
      "Correct\n",
      "\t follower_count for Katy Perry is:204000000\n",
      "Person1\n",
      "\t Name:Katy Perry\n",
      "\t occupation:Singer\n",
      "\t country:United States\n",
      "\t follower_count:204000000\n",
      "Person 2\n",
      "\t Name:National Geographic\n",
      "\t occupation:Magazine / Media\n",
      "\t country:United States\n"
     ]
    },
    {
     "name": "stdin",
     "output_type": "stream",
     "text": [
      "Person 2 had higher (type 1) or lower (type 2) follower count that person1 1\n"
     ]
    },
    {
     "name": "stdout",
     "output_type": "stream",
     "text": [
      "1\n",
      "Correct\n",
      "\t follower_count for National Geographic is:278000000\n",
      "Person1\n",
      "\t Name:National Geographic\n",
      "\t occupation:Magazine / Media\n",
      "\t country:United States\n",
      "\t follower_count:278000000\n",
      "Person 2\n",
      "\t Name:Khloé Kardashian\n",
      "\t occupation:Reality Star / Businesswoman\n",
      "\t country:United States\n"
     ]
    },
    {
     "name": "stdin",
     "output_type": "stream",
     "text": [
      "Person 2 had higher (type 1) or lower (type 2) follower count that person1 1\n"
     ]
    },
    {
     "name": "stdout",
     "output_type": "stream",
     "text": [
      "1\n",
      "Correct\n",
      "\t follower_count for Khloé Kardashian is:303000000\n",
      "Person1\n",
      "\t Name:Khloé Kardashian\n",
      "\t occupation:Reality Star / Businesswoman\n",
      "\t country:United States\n",
      "\t follower_count:303000000\n",
      "Person 2\n",
      "\t Name:Beyoncé\n",
      "\t occupation:Singer/Actress\n",
      "\t country:United States\n"
     ]
    },
    {
     "name": "stdin",
     "output_type": "stream",
     "text": [
      "Person 2 had higher (type 1) or lower (type 2) follower count that person1 2\n"
     ]
    },
    {
     "name": "stdout",
     "output_type": "stream",
     "text": [
      "0\n",
      "Wrong guess!\n",
      "\t follower_count for Khloé Kardashian is:311000000\n"
     ]
    }
   ],
   "source": [
    "person1=random.sample(top_followed,k=1)\n",
    "correct=1\n",
    "while correct==1:\n",
    "    correct=0\n",
    "    person2=random.sample(top_followed,k=1)\n",
    "    \n",
    "    print(\"Person1\")\n",
    "    print(f\"\\t Name:{person1[0]['name']}\")\n",
    "    print(f\"\\t occupation:{person1[0]['occupation']}\")\n",
    "    print(f\"\\t country:{person1[0]['country']}\")\n",
    "    print(f\"\\t follower_count:{person1[0]['follower_count']}\")\n",
    "    \n",
    "    print(\"Person 2\")\n",
    "    print(f\"\\t Name:{person2[0]['name']}\")\n",
    "    print(f\"\\t occupation:{person2[0]['occupation']}\")\n",
    "    print(f\"\\t country:{person2[0]['country']}\")\n",
    "    \n",
    "    guess=int(input(\"Person 2 had higher (type 1) or lower (type 2) follower count that person1\"))\n",
    "    correct=chech_guess(guess, person1[0]['follower_count'], person2[0]['follower_count'])\n",
    "    print(correct)\n",
    "    if correct==1:\n",
    "        print(\"Correct\")\n",
    "        person1=person2\n",
    "    else:\n",
    "        print(\"Wrong guess!\")\n",
    "\n",
    "    print(f\"\\t follower_count for {person1[0]['name']} is:{person2[0]['follower_count']}\")\n",
    "    \n"
   ]
  },
  {
   "cell_type": "code",
   "execution_count": null,
   "id": "8e7f23c4-cd48-4258-9de3-66fc33f5a126",
   "metadata": {},
   "outputs": [],
   "source": []
  }
 ],
 "metadata": {
  "kernelspec": {
   "display_name": "Python 3 (ipykernel)",
   "language": "python",
   "name": "python3"
  },
  "language_info": {
   "codemirror_mode": {
    "name": "ipython",
    "version": 3
   },
   "file_extension": ".py",
   "mimetype": "text/x-python",
   "name": "python",
   "nbconvert_exporter": "python",
   "pygments_lexer": "ipython3",
   "version": "3.13.5"
  }
 },
 "nbformat": 4,
 "nbformat_minor": 5
}

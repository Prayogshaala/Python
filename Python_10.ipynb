{
 "cells": [
  {
   "cell_type": "markdown",
   "id": "a2953023-de7a-4eba-a4de-c9b05b1113fd",
   "metadata": {},
   "source": [
    "### Python Day 10\n",
    "### &nbsp;&nbsp;&nbsp;Functions with output\n",
    "### &nbsp;&nbsp;&nbsp;DocString"
   ]
  },
  {
   "cell_type": "markdown",
   "id": "3e724593-dd55-4292-befc-b2c957e33916",
   "metadata": {},
   "source": [
    "### Functions can provide output by using return"
   ]
  },
  {
   "cell_type": "code",
   "execution_count": 9,
   "id": "338c79bd-04c8-485e-8a05-4551c7bae852",
   "metadata": {},
   "outputs": [],
   "source": [
    "def format_name(fname, lname):\n",
    "    return fname.title()+' '+lname.title()\n",
    "    "
   ]
  },
  {
   "cell_type": "code",
   "execution_count": 10,
   "id": "c8b69ec1-2f85-4be0-9bdc-b1061651cac1",
   "metadata": {},
   "outputs": [
    {
     "data": {
      "text/plain": [
       "'Digvijay Avachat'"
      ]
     },
     "execution_count": 10,
     "metadata": {},
     "output_type": "execute_result"
    }
   ],
   "source": [
    "format_name('DIgVIjaY','aVAChaT')"
   ]
  },
  {
   "cell_type": "code",
   "execution_count": 11,
   "id": "d4885840-c5a0-4982-a14b-216fe73a048a",
   "metadata": {},
   "outputs": [],
   "source": [
    "### Function can have more than one return statement and we can also have return nothing (i.e. return)"
   ]
  },
  {
   "cell_type": "code",
   "execution_count": 12,
   "id": "91612d14-84cb-41d3-9d59-ab366f1c9cbd",
   "metadata": {},
   "outputs": [],
   "source": [
    "def format_name(fname, lname):\n",
    "    if fname=='' or lname=='':\n",
    "        return\n",
    "    return fname.title()+' '+lname.title()"
   ]
  },
  {
   "cell_type": "code",
   "execution_count": 13,
   "id": "c18f06fc-e01d-4f1a-bfe3-ad5cf6850e4e",
   "metadata": {},
   "outputs": [
    {
     "data": {
      "text/plain": [
       "'Digvijay Avachat'"
      ]
     },
     "execution_count": 13,
     "metadata": {},
     "output_type": "execute_result"
    }
   ],
   "source": [
    "format_name('DIgVIjaY','aVAChaT')"
   ]
  },
  {
   "cell_type": "code",
   "execution_count": 14,
   "id": "4e726880-6dc4-473e-b5ce-86b71c35f8cd",
   "metadata": {},
   "outputs": [],
   "source": [
    "format_name('','aVAChaT')"
   ]
  },
  {
   "cell_type": "markdown",
   "id": "7729a747-0061-4ff9-b5f4-a611b3d5d073",
   "metadata": {},
   "source": [
    "### Docstring - It is a documentation about a function, basically explaining the functionality of the function. It has to be on the line next to def <function name> and is enclosed in \"\"\" Doc string here \"\"\""
   ]
  },
  {
   "cell_type": "code",
   "execution_count": 20,
   "id": "722ae42f-e83b-4673-bb41-0b1ceac6ef4a",
   "metadata": {},
   "outputs": [],
   "source": [
    "def format_name(fname, lname):\n",
    "    \"\"\" Function takes first and last name as input and returns name in title format\"\"\"\n",
    "    if fname=='' or lname=='':\n",
    "        return\n",
    "    return fname.title()+' '+lname.title()"
   ]
  },
  {
   "cell_type": "code",
   "execution_count": null,
   "id": "b1c5cf0d-2098-49a7-b00b-e9e2d68e51f2",
   "metadata": {},
   "outputs": [],
   "source": []
  }
 ],
 "metadata": {
  "kernelspec": {
   "display_name": "Python 3 (ipykernel)",
   "language": "python",
   "name": "python3"
  },
  "language_info": {
   "codemirror_mode": {
    "name": "ipython",
    "version": 3
   },
   "file_extension": ".py",
   "mimetype": "text/x-python",
   "name": "python",
   "nbconvert_exporter": "python",
   "pygments_lexer": "ipython3",
   "version": "3.13.5"
  }
 },
 "nbformat": 4,
 "nbformat_minor": 5
}

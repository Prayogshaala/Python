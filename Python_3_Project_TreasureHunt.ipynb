{
 "cells": [
  {
   "cell_type": "markdown",
   "id": "7612be18-8c7f-41f6-aec9-3f127f6ff9a2",
   "metadata": {},
   "source": [
    "### Python Day 3 Project - Treasure hunt"
   ]
  },
  {
   "cell_type": "code",
   "execution_count": 7,
   "id": "e54d6927-4299-486c-8a24-c133edec8c3d",
   "metadata": {},
   "outputs": [
    {
     "name": "stdout",
     "output_type": "stream",
     "text": [
      "Welcome to the Treasure hunt!\n"
     ]
    }
   ],
   "source": [
    "print(\"Welcome to the Treasure hunt!\")\n",
    "\n"
   ]
  },
  {
   "cell_type": "code",
   "execution_count": 13,
   "id": "3b2120e9-d2c1-4cf2-a7fc-4a1ed35c0f0f",
   "metadata": {},
   "outputs": [
    {
     "name": "stdin",
     "output_type": "stream",
     "text": [
      "Are you ready to play? yes\n"
     ]
    },
    {
     "name": "stdout",
     "output_type": "stream",
     "text": [
      "Alright, lets get started\n"
     ]
    },
    {
     "name": "stdin",
     "output_type": "stream",
     "text": [
      "You wanna go left or right? right\n",
      "Which door you want to open? Red, Yellow or Blue? blue\n"
     ]
    },
    {
     "name": "stdout",
     "output_type": "stream",
     "text": [
      "Congratulations! You have found the treasure\n"
     ]
    }
   ],
   "source": [
    "ready=input(\"Are you ready to play?\")\n",
    "if ready.lower() =='y' or ready.lower()=='yes':\n",
    "    print(\"Alright, lets get started\")\n",
    "    direction=input(\"You wanna go left or right?\")\n",
    "    if direction.lower() =='left':\n",
    "        print(\"Oops, thats a dragon den. Game Over\")\n",
    "    elif direction.lower() =='right':\n",
    "        door=input(\"Which door you want to open? Red, Yellow or Blue?\")\n",
    "        if (door.lower()=='red'):\n",
    "            print(\"Game over. You have landed on Mars. Good luck getting back\")\n",
    "        elif (door.lower()=='yellow'):\n",
    "            print(\"Game over. You fell into a volcano\")\n",
    "        elif (door.lower()=='blue'):\n",
    "            print(\"Congratulations! You have found the treasure\")\n",
    "        else:\n",
    "            print(\"Stop trying to be a smart ass and choose one of the options.\")\n",
    "    else:\n",
    "        print(\"You need to choose between left or right.\")\n",
    "else:\n",
    "    print(\"Okay, come back when you are\")"
   ]
  },
  {
   "cell_type": "code",
   "execution_count": null,
   "id": "bb5ae42d-0c05-439d-8d37-6f4f6dd31a3a",
   "metadata": {},
   "outputs": [],
   "source": []
  }
 ],
 "metadata": {
  "kernelspec": {
   "display_name": "Python 3 (ipykernel)",
   "language": "python",
   "name": "python3"
  },
  "language_info": {
   "codemirror_mode": {
    "name": "ipython",
    "version": 3
   },
   "file_extension": ".py",
   "mimetype": "text/x-python",
   "name": "python",
   "nbconvert_exporter": "python",
   "pygments_lexer": "ipython3",
   "version": "3.13.5"
  }
 },
 "nbformat": 4,
 "nbformat_minor": 5
}

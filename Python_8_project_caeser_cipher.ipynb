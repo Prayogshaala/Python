{
 "cells": [
  {
   "cell_type": "markdown",
   "id": "3b1b382a-413b-440c-912e-d310dd5d7eb9",
   "metadata": {},
   "source": [
    "### Python Day8 project - Caeser Cipher\n",
    "### &nbsp;&nbsp;&nbsp;list.index()\n"
   ]
  },
  {
   "cell_type": "code",
   "execution_count": 78,
   "id": "ea2c1f4b-1b0e-479a-bb1d-49a0004a1a8e",
   "metadata": {},
   "outputs": [],
   "source": [
    "def encode (message,shift_by):\n",
    "    alphabets=list('abcdefghijklmnopqrstuvwxyz')\n",
    "    print(alphabets)\n",
    "    encrypted_message=''\n",
    "    for letter in message.lower():\n",
    "        print(letter)\n",
    "        if  letter in alphabets:\n",
    "            if alphabets.index(letter)+int(shift_by) < 26:\n",
    "                position=alphabets.index(letter)+int(shift_by)\n",
    "            else:\n",
    "                position=(alphabets.index(letter)+int(shift_by)) - 26\n",
    "            encrypted_message+=alphabets[position]\n",
    "        else:\n",
    "            encrypted_message+=letter\n",
    "    print(encrypted_message)"
   ]
  },
  {
   "cell_type": "code",
   "execution_count": 79,
   "id": "39e7645a-38fa-4c7e-9c4f-098728473467",
   "metadata": {},
   "outputs": [],
   "source": [
    "def decode (message,shift_by):\n",
    "    alphabets=list('abcdefghijklmnopqrstuvwxyz')\n",
    "    print(alphabets)\n",
    "    decrypted_message=''\n",
    "    for letter in message.lower():\n",
    "        print(letter)\n",
    "        if  letter in alphabets:\n",
    "            if alphabets.index(letter)-int(shift_by) >= 0:\n",
    "                position=alphabets.index(letter)-int(shift_by)\n",
    "            else:\n",
    "                position=(alphabets.index(letter)-int(shift_by)) + 26\n",
    "            print(position)\n",
    "            decrypted_message+=alphabets[position]\n",
    "        else:\n",
    "            decrypted_message+=letter\n",
    "    print(decrypted_message)"
   ]
  },
  {
   "cell_type": "code",
   "execution_count": 80,
   "id": "f4670e2e-5d1d-4767-99cf-4d0f6c86c614",
   "metadata": {},
   "outputs": [
    {
     "name": "stdout",
     "output_type": "stream",
     "text": [
      "['a', 'b', 'c', 'd', 'e', 'f', 'g', 'h', 'i', 'j', 'k', 'l', 'm', 'n', 'o', 'p', 'q', 'r', 's', 't', 'u', 'v', 'w', 'x', 'y', 'z']\n",
      "i\n",
      "3\n",
      "r\n",
      "12\n",
      "i\n",
      "3\n",
      "q\n",
      "11\n",
      "c\n",
      "23\n",
      " \n",
      "e\n",
      "25\n",
      "x\n",
      "18\n",
      " \n",
      "x\n",
      "18\n",
      "l\n",
      "6\n",
      "i\n",
      "3\n",
      " \n",
      "k\n",
      "5\n",
      "e\n",
      "25\n",
      "x\n",
      "18\n",
      "i\n",
      "3\n",
      "w\n",
      "17\n",
      "dmdlx zs sgd fzsdr\n"
     ]
    }
   ],
   "source": [
    "decode('iriqc ex xli kexiw',5)"
   ]
  },
  {
   "cell_type": "code",
   "execution_count": 81,
   "id": "6ec325b8-b43e-4c89-8f21-e7fa9e742e70",
   "metadata": {},
   "outputs": [],
   "source": [
    "def main():\n",
    "    loop='yes'\n",
    "    while loop=='yes':\n",
    "        action=input(\"Type 'encode' to encrypt, 'decode' to decrypt:\\n\")\n",
    "        shift_by=input(\"Enter number of letter to shift by:\\n\")\n",
    "        message=input(\"Enter you message:\\n\").lower()\n",
    "        if action=='encode':\n",
    "            encode(message,shift_by)\n",
    "        elif action=='decode':\n",
    "            decode(message,shift_by)\n",
    "        else:\n",
    "            print(\"Enter valid action (encode/decode)\")\n",
    "        loop=input(\"Do you want to continue?\").lower()\n",
    "    "
   ]
  },
  {
   "cell_type": "code",
   "execution_count": 82,
   "id": "a3218aaa-92f7-4ae8-b257-1a93d0196c5c",
   "metadata": {},
   "outputs": [
    {
     "name": "stdin",
     "output_type": "stream",
     "text": [
      "Type 'encode' to encrypt, 'decode' to decrypt:\n",
      " encode\n",
      "Enter number of letter to shift by:\n",
      " 5\n",
      "Enter you message:\n",
      " abcde\n"
     ]
    },
    {
     "name": "stdout",
     "output_type": "stream",
     "text": [
      "['a', 'b', 'c', 'd', 'e', 'f', 'g', 'h', 'i', 'j', 'k', 'l', 'm', 'n', 'o', 'p', 'q', 'r', 's', 't', 'u', 'v', 'w', 'x', 'y', 'z']\n",
      "a\n",
      "b\n",
      "c\n",
      "d\n",
      "e\n",
      "fghij\n"
     ]
    },
    {
     "name": "stdin",
     "output_type": "stream",
     "text": [
      "Do you want to continue? yes\n",
      "Type 'encode' to encrypt, 'decode' to decrypt:\n",
      " decode\n",
      "Enter number of letter to shift by:\n",
      " 5\n",
      "Enter you message:\n",
      " fghij\n"
     ]
    },
    {
     "name": "stdout",
     "output_type": "stream",
     "text": [
      "['a', 'b', 'c', 'd', 'e', 'f', 'g', 'h', 'i', 'j', 'k', 'l', 'm', 'n', 'o', 'p', 'q', 'r', 's', 't', 'u', 'v', 'w', 'x', 'y', 'z']\n",
      "f\n",
      "0\n",
      "g\n",
      "1\n",
      "h\n",
      "2\n",
      "i\n",
      "3\n",
      "j\n",
      "4\n",
      "abcde\n"
     ]
    },
    {
     "name": "stdin",
     "output_type": "stream",
     "text": [
      "Do you want to continue? no\n"
     ]
    }
   ],
   "source": [
    "main()"
   ]
  },
  {
   "cell_type": "code",
   "execution_count": null,
   "id": "2d8d6fb4-d2dd-48bc-aaad-cf311eab9e80",
   "metadata": {},
   "outputs": [],
   "source": []
  }
 ],
 "metadata": {
  "kernelspec": {
   "display_name": "Python 3 (ipykernel)",
   "language": "python",
   "name": "python3"
  },
  "language_info": {
   "codemirror_mode": {
    "name": "ipython",
    "version": 3
   },
   "file_extension": ".py",
   "mimetype": "text/x-python",
   "name": "python",
   "nbconvert_exporter": "python",
   "pygments_lexer": "ipython3",
   "version": "3.13.5"
  }
 },
 "nbformat": 4,
 "nbformat_minor": 5
}

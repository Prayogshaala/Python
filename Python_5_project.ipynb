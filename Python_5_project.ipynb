{
 "cells": [
  {
   "cell_type": "markdown",
   "id": "b04a9cfb-8442-49e0-b694-b43ed5260ac9",
   "metadata": {},
   "source": [
    "### Python Day5 project - Password Generator\n",
    "### &nbsp;&nbsp;&nbsp;list()\n",
    "### &nbsp;&nbsp;&nbsp;random.choices()\n",
    "### &nbsp;&nbsp;&nbsp;random.sample()\n",
    "### &nbsp;&nbsp;&nbsp;join()\n",
    "### &nbsp;&nbsp;&nbsp;random.shuffle()"
   ]
  },
  {
   "cell_type": "code",
   "execution_count": 5,
   "id": "443cca11-4621-4884-b61a-d0ef6e0fc8dc",
   "metadata": {},
   "outputs": [],
   "source": [
    "import random"
   ]
  },
  {
   "cell_type": "markdown",
   "id": "8dd7975c-3ad7-48f6-890b-b97d5a84891e",
   "metadata": {},
   "source": [
    "### list() Python built-in function that creates a list from a string, list, tuple"
   ]
  },
  {
   "cell_type": "code",
   "execution_count": 3,
   "id": "d2d298d6-76c6-4b8d-9300-d4dce576ffc2",
   "metadata": {},
   "outputs": [
    {
     "name": "stdout",
     "output_type": "stream",
     "text": [
      "['a', 'b', 'c', 'd', 'e', 'f', 'g', 'h', 'i', 'j', 'k', 'l', 'm', 'n', 'o', 'p', 'q', 'r', 's', 't', 'u', 'v', 'w', 'x', 'y', 'z', 'A', 'B', 'C', 'D', 'E', 'F', 'G', 'H', 'I', 'J', 'K', 'L', 'M', 'N', 'O', 'P', 'Q', 'R', 'S', 'T', 'U', 'V', 'W', 'X', 'Y', 'Z']\n",
      "['0', '1', '2', '3', '4', '5', '6', '7', '8', '9']\n",
      "['!', '@', '#', '$', '%', '^', '&', '*', '(', ')', '_', '+', '{', '}', '[', ']', '|', ':', ';', '<', '>', '?', ',', '.', '/', '-', '=', '~']\n"
     ]
    }
   ],
   "source": [
    "chars=list('abcdefghijklmnopqrstuvwxyzABCDEFGHIJKLMNOPQRSTUVWXYZ')\n",
    "numbers=list('0123456789')\n",
    "special_chars=list('!@#$%^&*()_+{}[]|:;<>?,./-=~')\n",
    "print(chars)\n",
    "print(numbers)\n",
    "print(special_chars)"
   ]
  },
  {
   "cell_type": "code",
   "execution_count": 25,
   "id": "b8fb081b-8224-4448-ac8b-b2719eb8809f",
   "metadata": {},
   "outputs": [
    {
     "name": "stdin",
     "output_type": "stream",
     "text": [
      "What should be the length of the password?\n",
      " 12\n",
      "How many numbers you want in to password?\n",
      " 3\n",
      "How many special characters you want in to password?\n",
      " 4\n"
     ]
    }
   ],
   "source": [
    "password_length=int(input(\"What should be the length of the password?\\n\"))\n",
    "Num_of_numbers=int(input(\"How many numbers you want in to password?\\n\"))\n",
    "Num_of_special_chars=int(input(\"How many special characters you want in to password?\\n\"))"
   ]
  },
  {
   "cell_type": "markdown",
   "id": "75705946-75e3-4177-a14e-465a3af04147",
   "metadata": {},
   "source": [
    "### random.choices() Returns a list of randomly selected element with replacement ( i.e. same element can come more than once) from a given sequence\n",
    "### random.sample() Returns list of randomly selected elements without replacement (i.e. one element occurs once)\n",
    "### join() string method used to combine elements of a list into a string i.e. \"separator\".join(list)"
   ]
  },
  {
   "cell_type": "code",
   "execution_count": 109,
   "id": "4c0757fd-5fe1-4fe6-9502-a6113801f420",
   "metadata": {},
   "outputs": [
    {
     "name": "stdout",
     "output_type": "stream",
     "text": [
      "['N', 'B', 'g', 'k', 'q', '7', '5', '4', '{', ',', '>', ')']\n",
      "k)g47{,B>qN5\n"
     ]
    }
   ],
   "source": [
    "password_temp=random.choices(chars,k=(password_length - (Num_of_numbers+Num_of_special_chars)))\n",
    "password_temp+=random.choices(numbers,k=Num_of_numbers)\n",
    "password_temp+=random.choices(special_chars,k=Num_of_special_chars)\n",
    "print(password_temp)\n",
    "\n",
    "password=random.sample(password_temp,k=password_length)\n",
    "print(\"\".join(password))"
   ]
  },
  {
   "cell_type": "code",
   "execution_count": 110,
   "id": "35e68874-988a-4df4-a718-5b4143ccdd33",
   "metadata": {},
   "outputs": [
    {
     "name": "stdout",
     "output_type": "stream",
     "text": [
      "{N>q47kgB5),\n"
     ]
    }
   ],
   "source": [
    "### random.shuffle() Randomly rearranges elements in the list\n",
    "\n",
    "random.shuffle(password_temp)\n",
    "print(\"\".join(password_temp))\n"
   ]
  }
 ],
 "metadata": {
  "kernelspec": {
   "display_name": "Python 3 (ipykernel)",
   "language": "python",
   "name": "python3"
  },
  "language_info": {
   "codemirror_mode": {
    "name": "ipython",
    "version": 3
   },
   "file_extension": ".py",
   "mimetype": "text/x-python",
   "name": "python",
   "nbconvert_exporter": "python",
   "pygments_lexer": "ipython3",
   "version": "3.13.5"
  }
 },
 "nbformat": 4,
 "nbformat_minor": 5
}

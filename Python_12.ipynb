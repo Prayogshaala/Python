{
 "cells": [
  {
   "cell_type": "markdown",
   "id": "2db2da01-d1d6-4fc5-a9c9-72f901de9fe7",
   "metadata": {},
   "source": [
    "### Python day 12\n",
    "### &nbsp;&nbsp;&nbsp;Global vs local variable\n",
    "### &nbsp;&nbsp;&nbsp;Use Global variable within a function\n",
    "### &nbsp;&nbsp;&nbsp;Update Global variable within a function\n",
    "### &nbsp;&nbsp;&nbsp;Constants\n",
    "### &nbsp;&nbsp;&nbsp;"
   ]
  },
  {
   "cell_type": "markdown",
   "id": "006c37b3-9aa2-4864-bb64-e066fc8d63b1",
   "metadata": {},
   "source": [
    "### Variables inside a function are 'local' variables. \n",
    "### Variables declared outside function are 'Global' variable"
   ]
  },
  {
   "cell_type": "code",
   "execution_count": 2,
   "id": "92487493-308e-49c8-8cf2-4b152e1e14e4",
   "metadata": {},
   "outputs": [
    {
     "name": "stdout",
     "output_type": "stream",
     "text": [
      "Value inside the function is: Local\n",
      "Value outside the function is: Global\n"
     ]
    }
   ],
   "source": [
    "name='Global'\n",
    "\n",
    "def dummy_func():\n",
    "    name='Local'\n",
    "    print(f\"Value inside the function is: {name}\")\n",
    "\n",
    "dummy_func()\n",
    "print(f\"Value outside the function is: {name}\")"
   ]
  },
  {
   "cell_type": "markdown",
   "id": "8dceae36-9164-4fd1-a3f2-5fec7d48534a",
   "metadata": {},
   "source": [
    "### We can refer to global variables inside a function as long as we dont have a local variable with the same name"
   ]
  },
  {
   "cell_type": "code",
   "execution_count": 3,
   "id": "f58c6787-d18b-42bc-8c87-74cccf3ff748",
   "metadata": {},
   "outputs": [
    {
     "name": "stdout",
     "output_type": "stream",
     "text": [
      "Value of local variable inside the function is: Local\n",
      "Value of global variable inside the function is: Global\n"
     ]
    }
   ],
   "source": [
    "name='Global'\n",
    "\n",
    "def dummy_func():\n",
    "    lname='Local'\n",
    "    print(f\"Value of local variable inside the function is: {lname}\")\n",
    "    print(f\"Value of global variable inside the function is: {name}\")\n",
    "dummy_func()\n"
   ]
  },
  {
   "cell_type": "code",
   "execution_count": null,
   "id": "0498d291-fb3e-41f5-afbc-b3d5c27bd3e7",
   "metadata": {},
   "outputs": [],
   "source": [
    "### To update Global variable within a function, we need to declare the global variable with in the function"
   ]
  },
  {
   "cell_type": "code",
   "execution_count": 4,
   "id": "fb024902-30fb-4f03-94f6-139ca9b7aedd",
   "metadata": {},
   "outputs": [
    {
     "name": "stdout",
     "output_type": "stream",
     "text": [
      "Value of local variable inside the function is: Local\n",
      "Value of global variable inside the function is: Global Updated\n"
     ]
    }
   ],
   "source": [
    "name='Global'\n",
    "\n",
    "def dummy_func():\n",
    "    lname='Local'\n",
    "    global name\n",
    "    name='Global Updated'\n",
    "    print(f\"Value of local variable inside the function is: {lname}\")\n",
    "    print(f\"Value of global variable inside the function is: {name}\")\n",
    "dummy_func()"
   ]
  },
  {
   "cell_type": "markdown",
   "id": "7ae0610e-d99f-45cb-85fd-9d3d9742c731",
   "metadata": {},
   "source": [
    "### Constants are variables that we initialize and then don't update. They are names in uppercase to identify them from variable"
   ]
  },
  {
   "cell_type": "code",
   "execution_count": 5,
   "id": "3fad1617-7a66-4e07-8a80-e0c8ab2bbc21",
   "metadata": {},
   "outputs": [
    {
     "name": "stdout",
     "output_type": "stream",
     "text": [
      "Development\n"
     ]
    }
   ],
   "source": [
    "ENNVIRONMENT='Development'\n",
    "\n",
    "print(ENNVIRONMENT)"
   ]
  },
  {
   "cell_type": "code",
   "execution_count": null,
   "id": "3a1fa1ad-a34d-42e5-9c62-1c13c1bde6f6",
   "metadata": {},
   "outputs": [],
   "source": []
  }
 ],
 "metadata": {
  "kernelspec": {
   "display_name": "Python 3 (ipykernel)",
   "language": "python",
   "name": "python3"
  },
  "language_info": {
   "codemirror_mode": {
    "name": "ipython",
    "version": 3
   },
   "file_extension": ".py",
   "mimetype": "text/x-python",
   "name": "python",
   "nbconvert_exporter": "python",
   "pygments_lexer": "ipython3",
   "version": "3.13.5"
  }
 },
 "nbformat": 4,
 "nbformat_minor": 5
}

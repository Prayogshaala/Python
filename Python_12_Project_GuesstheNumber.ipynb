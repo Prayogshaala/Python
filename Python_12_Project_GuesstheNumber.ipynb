{
 "cells": [
  {
   "cell_type": "code",
   "execution_count": 1,
   "id": "f09d614f-c1c2-4601-8122-a55cd9123377",
   "metadata": {},
   "outputs": [],
   "source": [
    "### Python day 12 project - Guess the number"
   ]
  },
  {
   "cell_type": "code",
   "execution_count": 27,
   "id": "97ccfc5c-9e70-46ec-b452-5ff0aaed20a0",
   "metadata": {},
   "outputs": [],
   "source": [
    "import random\n",
    "import Ascii_logos"
   ]
  },
  {
   "cell_type": "code",
   "execution_count": 28,
   "id": "a5d2164b-30f6-435b-8eca-694c56870418",
   "metadata": {},
   "outputs": [
    {
     "name": "stdout",
     "output_type": "stream",
     "text": [
      "\n",
      "\n",
      "   _____                       _   _            _   _                 _               \n",
      "  / ____|                     | | | |          | \\ | |               | |              \n",
      " | |  __ _   _  ___  ___ ___  | |_| |__   ___  |  \\| |_   _ _ __ ___ | |__   ___ _ __ \n",
      " | | |_ | | | |/ _ \\/ __/ __| | __| '_ \\ / _ \\ | . ` | | | | '_ ` _ \\| '_ \\ / _ \\ '__|\n",
      " | |__| | |_| |  __/\\__ \\__ \\ | |_| | | |  __/ | |\\  | |_| | | | | | | |_) |  __/ |   \n",
      "  \\_____|\\__,_|\\___||___/___/  \\__|_| |_|\\___| |_| \\_|\\__,_|_| |_| |_|_.__/ \\___|_|   \n",
      "                                                                                      \n",
      "                                                                                      \n",
      "\n"
     ]
    }
   ],
   "source": [
    "print(Ascii_logos.Guess_the_number)"
   ]
  },
  {
   "cell_type": "code",
   "execution_count": 30,
   "id": "b776c579-cca2-4961-b0d9-0482fb989545",
   "metadata": {},
   "outputs": [
    {
     "name": "stdout",
     "output_type": "stream",
     "text": [
      "I am thinking of a number between 1 and 100\n"
     ]
    },
    {
     "name": "stdin",
     "output_type": "stream",
     "text": [
      "Would you like to play at Easy, Medium or Hard level? easy\n"
     ]
    },
    {
     "name": "stdout",
     "output_type": "stream",
     "text": [
      "You get 10 chances\n"
     ]
    }
   ],
   "source": [
    "print(\"I am thinking of a number between 1 and 100\")\n",
    "LEVEL=input(\"Would you like to play at Easy, Medium or Hard level?\")\n",
    "\n",
    "levels={\n",
    "    'easy':10,\n",
    "    'medium':7,\n",
    "    'hard':5\n",
    "}\n",
    "\n",
    "numbers=[]\n",
    "\n",
    "random_num=random.randint(1,100)\n",
    "\n",
    "if LEVEL.lower() not in levels:\n",
    "    print(\"Enter valid level\")\n",
    "else:\n",
    "    chances=levels[LEVEL.lower()]\n",
    "    print(f\"You get {chances} chances\")"
   ]
  },
  {
   "cell_type": "code",
   "execution_count": 32,
   "id": "a7271aa6-370f-44b3-b841-baea70bcce90",
   "metadata": {},
   "outputs": [
    {
     "name": "stdin",
     "output_type": "stream",
     "text": [
      "Guess the number: 45\n"
     ]
    },
    {
     "name": "stdout",
     "output_type": "stream",
     "text": [
      "Too low\n",
      "You have 9 remaining.\n"
     ]
    },
    {
     "name": "stdin",
     "output_type": "stream",
     "text": [
      "Guess the number: 69\n"
     ]
    },
    {
     "name": "stdout",
     "output_type": "stream",
     "text": [
      "Too high\n",
      "You have 8 remaining.\n"
     ]
    },
    {
     "name": "stdin",
     "output_type": "stream",
     "text": [
      "Guess the number: 50\n"
     ]
    },
    {
     "name": "stdout",
     "output_type": "stream",
     "text": [
      "Too high\n",
      "You have 7 remaining.\n"
     ]
    },
    {
     "name": "stdin",
     "output_type": "stream",
     "text": [
      "Guess the number: 46\n"
     ]
    },
    {
     "name": "stdout",
     "output_type": "stream",
     "text": [
      "Too low\n",
      "You have 6 remaining.\n"
     ]
    },
    {
     "name": "stdin",
     "output_type": "stream",
     "text": [
      "Guess the number: 49\n"
     ]
    },
    {
     "name": "stdout",
     "output_type": "stream",
     "text": [
      "Too high\n",
      "You have 5 remaining.\n"
     ]
    },
    {
     "name": "stdin",
     "output_type": "stream",
     "text": [
      "Guess the number: 47\n"
     ]
    },
    {
     "name": "stdout",
     "output_type": "stream",
     "text": [
      "Congratulations! You guessed it right\n"
     ]
    }
   ],
   "source": [
    "\n",
    "while chances>0:\n",
    "    guessed_number=int(input(\"Guess the number:\"))\n",
    "\n",
    "    if guessed_number == random_num:\n",
    "        print(\"Congratulations! You guessed it right\")\n",
    "        break\n",
    "    elif guessed_number > random_num:\n",
    "        print(\"Too high\")\n",
    "    else:\n",
    "        print(\"Too low\")\n",
    "\n",
    "    chances-=1\n",
    "\n",
    "    if chances>0:\n",
    "        print(f\"You have {chances} remaining.\")\n",
    "    else:\n",
    "        print(f\"You ran out of changes. The correct number was {random_num}\")\n",
    "\n",
    "                       "
   ]
  },
  {
   "cell_type": "code",
   "execution_count": null,
   "id": "15c65c6f-73ff-4dff-a01a-985a76f4dbf6",
   "metadata": {},
   "outputs": [],
   "source": []
  }
 ],
 "metadata": {
  "kernelspec": {
   "display_name": "Python 3 (ipykernel)",
   "language": "python",
   "name": "python3"
  },
  "language_info": {
   "codemirror_mode": {
    "name": "ipython",
    "version": 3
   },
   "file_extension": ".py",
   "mimetype": "text/x-python",
   "name": "python",
   "nbconvert_exporter": "python",
   "pygments_lexer": "ipython3",
   "version": "3.13.5"
  }
 },
 "nbformat": 4,
 "nbformat_minor": 5
}

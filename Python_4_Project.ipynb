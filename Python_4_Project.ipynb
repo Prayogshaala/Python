{
 "cells": [
  {
   "cell_type": "markdown",
   "id": "955eef3e-1e32-4e78-83cb-47a7468011ba",
   "metadata": {},
   "source": [
    "### Python Day 4 - Rock, Paper and Scissor"
   ]
  },
  {
   "cell_type": "code",
   "execution_count": 84,
   "id": "7526a405-63f8-476a-a72c-0bab87614058",
   "metadata": {},
   "outputs": [],
   "source": [
    "import random"
   ]
  },
  {
   "cell_type": "code",
   "execution_count": 99,
   "id": "1120a0fd-5aa3-40d7-b0ad-58514c953245",
   "metadata": {},
   "outputs": [
    {
     "name": "stdout",
     "output_type": "stream",
     "text": [
      ",adPPYba,  ,adPPYba, 88 ,adPPYba, ,adPPYba,  ,adPPYba,  8b,dPPYba, ,adPPYba,  \n",
      "I8[    \"\" a8\"     \"\" 88 I8[    \"\" I8[    \"\" a8\"     \"8a 88P'   \"Y8 I8[    \"\"  \n",
      " `\"Y8ba,  8b         88  `\"Y8ba,   `\"Y8ba,  8b       d8 88          `\"Y8ba,   \n",
      "aa    ]8I \"8a,   ,aa 88 aa    ]8I aa    ]8I \"8a,   ,a8\" 88         aa    ]8I  \n",
      "`\"YbbdP\"'  `\"Ybbd8\"' 88 `\"YbbdP\"' `\"YbbdP\"'  `\"YbbdP\"'  88         `\"YbbdP\"'  \n"
     ]
    }
   ],
   "source": [
    "paper='''8b,dPPYba,  ,adPPYYba, 8b,dPPYba,   ,adPPYba, 8b,dPPYba,  \n",
    "88P'    \"8a \"\"     `Y8 88P'    \"8a a8P_____88 88P'   \"Y8  \n",
    "88       d8 ,adPPPPP88 88       d8 8PP\"\"\"\"\"\"\" 88          \n",
    "88b,   ,a8\" 88,    ,88 88b,   ,a8\" \"8b,   ,aa 88          \n",
    "88`YbbdP\"'  `\"8bbdP\"Y8 88`YbbdP\"'   `\"Ybbd8\"' 88          \n",
    "88                     88                                 \n",
    "88                     88       '''\n",
    "\n",
    "rock='''                                  88         \n",
    "                                  88         \n",
    "                                  88         \n",
    "8b,dPPYba,  ,adPPYba,   ,adPPYba, 88   ,d8   \n",
    "88P'   \"Y8 a8\"     \"8a a8\"     \"\" 88 ,a8\"    \n",
    "88         8b       d8 8b         8888[      \n",
    "88         \"8a,   ,a8\" \"8a,   ,aa 88`\"Yba,   \n",
    "88          `\"YbbdP\"'   `\"Ybbd8\"' 88   `Y8a  \n",
    "                                             '''\n",
    "\n",
    "scissors=''',adPPYba,  ,adPPYba, 88 ,adPPYba, ,adPPYba,  ,adPPYba,  8b,dPPYba, ,adPPYba,  \n",
    "I8[    \"\" a8\"     \"\" 88 I8[    \"\" I8[    \"\" a8\"     \"8a 88P'   \"Y8 I8[    \"\"  \n",
    " `\"Y8ba,  8b         88  `\"Y8ba,   `\"Y8ba,  8b       d8 88          `\"Y8ba,   \n",
    "aa    ]8I \"8a,   ,aa 88 aa    ]8I aa    ]8I \"8a,   ,a8\" 88         aa    ]8I  \n",
    "`\"YbbdP\"'  `\"Ybbd8\"' 88 `\"YbbdP\"' `\"YbbdP\"'  `\"YbbdP\"'  88         `\"YbbdP\"'  '''\n",
    "\n",
    "images={'rock':rock, 'paper':paper,'scissors':scissors}\n"
   ]
  },
  {
   "cell_type": "code",
   "execution_count": 86,
   "id": "90eee2ad-0235-4923-8ecd-4a7cb77df3c7",
   "metadata": {},
   "outputs": [
    {
     "name": "stdout",
     "output_type": "stream",
     "text": [
      "['rock', 'paper', 'scissors']\n"
     ]
    }
   ],
   "source": [
    "choices=['rock','paper','scissors']\n",
    "print(choices)"
   ]
  },
  {
   "cell_type": "code",
   "execution_count": 87,
   "id": "68e65318-725e-44d4-a66b-5a6afb294713",
   "metadata": {},
   "outputs": [],
   "source": [
    "def rock_paper_scissor(user_choice, computer_choice):\n",
    "    if user_choice==computer_choice:\n",
    "        return 'Draw'\n",
    "    elif user_choice=='rock':\n",
    "        if computer_choice=='paper':\n",
    "            return'Computer wins'\n",
    "        else:\n",
    "            return 'User wins'\n",
    "    elif user_choice=='paper':\n",
    "        if computer_choice=='scissors':\n",
    "            return 'Computer wins'\n",
    "        else:\n",
    "            return 'User wins'\n",
    "    elif user_choice=='scissors':\n",
    "        if computer_choice=='rock':\n",
    "            return 'Computer wins'\n",
    "        else:\n",
    "            return 'User wins'\n",
    "    \n",
    "        "
   ]
  },
  {
   "cell_type": "code",
   "execution_count": 107,
   "id": "d5ea272c-1953-4fdc-b483-a62c147db1f1",
   "metadata": {},
   "outputs": [
    {
     "name": "stdin",
     "output_type": "stream",
     "text": [
      "Please select Rock, Paper or Scissors paper\n"
     ]
    },
    {
     "name": "stdout",
     "output_type": "stream",
     "text": [
      "\n",
      "\n",
      "8b,dPPYba,  ,adPPYYba, 8b,dPPYba,   ,adPPYba, 8b,dPPYba,  \n",
      "88P'    \"8a \"\"     `Y8 88P'    \"8a a8P_____88 88P'   \"Y8  \n",
      "88       d8 ,adPPPPP88 88       d8 8PP\"\"\"\"\"\"\" 88          \n",
      "88b,   ,a8\" 88,    ,88 88b,   ,a8\" \"8b,   ,aa 88          \n",
      "88`YbbdP\"'  `\"8bbdP\"Y8 88`YbbdP\"'   `\"Ybbd8\"' 88          \n",
      "88                     88                                 \n",
      "88                     88       \n"
     ]
    }
   ],
   "source": [
    "user_choice=input(\"Please select Rock, Paper or Scissors\").lower()\n",
    "print('\\n\\n'+images[user_choice])"
   ]
  },
  {
   "cell_type": "code",
   "execution_count": 109,
   "id": "4f69e78c-1405-4797-b55e-58962333fd75",
   "metadata": {},
   "outputs": [
    {
     "name": "stdout",
     "output_type": "stream",
     "text": [
      "\n",
      "\n",
      "8b,dPPYba,  ,adPPYYba, 8b,dPPYba,   ,adPPYba, 8b,dPPYba,  \n",
      "88P'    \"8a \"\"     `Y8 88P'    \"8a a8P_____88 88P'   \"Y8  \n",
      "88       d8 ,adPPPPP88 88       d8 8PP\"\"\"\"\"\"\" 88          \n",
      "88b,   ,a8\" 88,    ,88 88b,   ,a8\" \"8b,   ,aa 88          \n",
      "88`YbbdP\"'  `\"8bbdP\"Y8 88`YbbdP\"'   `\"Ybbd8\"' 88          \n",
      "88                     88                                 \n",
      "88                     88       \n"
     ]
    }
   ],
   "source": [
    "computer_choice=random.choice(choices)\n",
    "print('\\n\\n'+images[computer_choice])"
   ]
  },
  {
   "cell_type": "code",
   "execution_count": 110,
   "id": "2a1ca9dc-fe02-4180-a32e-f181341b0456",
   "metadata": {},
   "outputs": [
    {
     "name": "stdout",
     "output_type": "stream",
     "text": [
      "Draw\n"
     ]
    }
   ],
   "source": [
    "print(rock_paper_scissor(user_choice, computer_choice))"
   ]
  },
  {
   "cell_type": "code",
   "execution_count": null,
   "id": "7eafd8e3-66e4-4339-ab3c-0b864609e562",
   "metadata": {},
   "outputs": [],
   "source": []
  }
 ],
 "metadata": {
  "kernelspec": {
   "display_name": "Python 3 (ipykernel)",
   "language": "python",
   "name": "python3"
  },
  "language_info": {
   "codemirror_mode": {
    "name": "ipython",
    "version": 3
   },
   "file_extension": ".py",
   "mimetype": "text/x-python",
   "name": "python",
   "nbconvert_exporter": "python",
   "pygments_lexer": "ipython3",
   "version": "3.13.5"
  }
 },
 "nbformat": 4,
 "nbformat_minor": 5
}

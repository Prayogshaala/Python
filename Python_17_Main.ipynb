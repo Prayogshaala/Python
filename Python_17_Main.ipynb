{
 "cells": [
  {
   "cell_type": "code",
   "execution_count": 24,
   "id": "0f1ee3b0-0094-4522-8619-044b2c4d48a1",
   "metadata": {},
   "outputs": [],
   "source": [
    "from Python_17_Question_Model import Question\n",
    "from Python_17_Question_Bank import quiz_questions\n",
    "#from Python_17_Question_Brain import QuizBrain"
   ]
  },
  {
   "cell_type": "code",
   "execution_count": 25,
   "id": "59600f07-2314-4b23-b03f-e1b7bdb1bfc7",
   "metadata": {},
   "outputs": [
    {
     "name": "stdout",
     "output_type": "stream",
     "text": [
      "The Earth revolves around the Sun.\n",
      "True\n",
      "The chemical symbol for gold is Au.\n",
      "True\n",
      "Python was created before Java.\n",
      "False\n",
      "The Great Wall of China is visible from space.\n",
      "False\n",
      "Light travels faster than sound.\n",
      "True\n",
      "Shakespeare wrote 'The Odyssey'.\n",
      "False\n",
      "Water boils at 100 degrees Celsius at sea level.\n",
      "True\n",
      "The capital of Australia is Sydney.\n",
      "False\n",
      "Mount Everest is the tallest mountain on Earth.\n",
      "True\n",
      "Bananas grow on trees.\n",
      "False\n",
      "[<Python_17_Question_Model.Question object at 0x000001D61EEB4770>, <Python_17_Question_Model.Question object at 0x000001D61EEB4590>, <Python_17_Question_Model.Question object at 0x000001D6200F1550>, <Python_17_Question_Model.Question object at 0x000001D6200F20F0>, <Python_17_Question_Model.Question object at 0x000001D61FF2C3B0>, <Python_17_Question_Model.Question object at 0x000001D61FF2C710>, <Python_17_Question_Model.Question object at 0x000001D61FF2EB10>, <Python_17_Question_Model.Question object at 0x000001D61FF2E510>, <Python_17_Question_Model.Question object at 0x000001D61FF2E5D0>, <Python_17_Question_Model.Question object at 0x000001D61FF2E9F0>]\n"
     ]
    }
   ],
   "source": [
    "question_bank=[]\n",
    "for question in quiz_questions:\n",
    "    print(question['text'])\n",
    "    print(question['answer'])\n",
    "    question_bank.append(Question(question['text'], question['answer']))\n",
    "\n",
    "print(question_bank)"
   ]
  },
  {
   "cell_type": "code",
   "execution_count": 72,
   "id": "f81fa3ae-3454-4237-8ea6-953b725c438f",
   "metadata": {},
   "outputs": [
    {
     "name": "stdin",
     "output_type": "stream",
     "text": [
      "The Earth revolves around the Sun. False\n"
     ]
    },
    {
     "name": "stdout",
     "output_type": "stream",
     "text": [
      "Ops, not the right the answer!\n"
     ]
    }
   ],
   "source": [
    "quiz_brain=QuizBrain()\n",
    "\n",
    "quiz_brain.ask_question(question_bank)"
   ]
  },
  {
   "cell_type": "code",
   "execution_count": null,
   "id": "85ffbde0-7726-43d8-98c6-236ae2416a54",
   "metadata": {},
   "outputs": [],
   "source": []
  },
  {
   "cell_type": "code",
   "execution_count": null,
   "id": "d0765c81-b842-46ed-8a21-c4597d104d36",
   "metadata": {},
   "outputs": [],
   "source": []
  }
 ],
 "metadata": {
  "kernelspec": {
   "display_name": "Python 3 (ipykernel)",
   "language": "python",
   "name": "python3"
  },
  "language_info": {
   "codemirror_mode": {
    "name": "ipython",
    "version": 3
   },
   "file_extension": ".py",
   "mimetype": "text/x-python",
   "name": "python",
   "nbconvert_exporter": "python",
   "pygments_lexer": "ipython3",
   "version": "3.13.5"
  }
 },
 "nbformat": 4,
 "nbformat_minor": 5
}

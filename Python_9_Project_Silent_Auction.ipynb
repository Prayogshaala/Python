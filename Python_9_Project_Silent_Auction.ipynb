{
 "cells": [
  {
   "cell_type": "code",
   "execution_count": 1,
   "id": "328e6ee4-0327-4cdb-930d-01a7de886e90",
   "metadata": {},
   "outputs": [],
   "source": [
    "### Python Day 9 Silent Auction project"
   ]
  },
  {
   "cell_type": "code",
   "execution_count": 28,
   "id": "d4bbac33-e8b9-40d0-8923-3dbc1167a6a5",
   "metadata": {},
   "outputs": [
    {
     "name": "stdin",
     "output_type": "stream",
     "text": [
      "What is your name:\n",
      " DJ\n",
      "What is your bid:\n",
      " 100\n",
      "Are there more bidders?\n",
      " yes\n",
      "What is your name:\n",
      " Kunnu\n",
      "What is your bid:\n",
      " 200\n",
      "Are there more bidders?\n",
      " yes\n",
      "What is your name:\n",
      " Rhimba\n",
      "What is your bid:\n",
      " 200\n",
      "Are there more bidders?\n",
      " now\n"
     ]
    },
    {
     "name": "stdout",
     "output_type": "stream",
     "text": [
      "{'DJ': '100', 'Kunnu': '200', 'Rhimba': '200'}\n"
     ]
    }
   ],
   "source": [
    "loop='yes'\n",
    "bids_dict={}  \n",
    "\n",
    "while loop=='yes':\n",
    "    name=input(\"What is your name:\\n\")\n",
    "    bid=input(\"What is your bid:\\n\")\n",
    "    loop=input(\"Are there more bidders?\\n\")\n",
    "\n",
    "    bids_dict[name]=bid\n",
    "\n",
    "print(bids_dict)\n"
   ]
  },
  {
   "cell_type": "code",
   "execution_count": 32,
   "id": "c9ecd5ba-17ce-47ab-9e3c-6eb8cfcb1e41",
   "metadata": {},
   "outputs": [],
   "source": [
    "def find_winner(bids_dict):\n",
    "    max_bid=0\n",
    "    winners={}\n",
    "    for key,value in bids_dict.items():\n",
    "        if max_bid<int(value):\n",
    "            max_bid=int(value)\n",
    "            winners.clear()\n",
    "            winners[key]=max_bid\n",
    "        elif max_bid==int(value):\n",
    "            winners[key]=max_bid\n",
    "    return winners\n"
   ]
  },
  {
   "cell_type": "code",
   "execution_count": 36,
   "id": "36e6b60f-5eed-4ca1-b1f4-84463dad1679",
   "metadata": {},
   "outputs": [
    {
     "name": "stdout",
     "output_type": "stream",
     "text": [
      "Winner/s is/are:['Kunnu', 'Rhimba']\n"
     ]
    }
   ],
   "source": [
    "print(f\"Winner/s is/are:{list(find_winner(bids_dict).keys())}\")"
   ]
  },
  {
   "cell_type": "code",
   "execution_count": null,
   "id": "9605f66a-64ea-4ad9-89a0-53577df06a68",
   "metadata": {},
   "outputs": [],
   "source": []
  }
 ],
 "metadata": {
  "kernelspec": {
   "display_name": "Python 3 (ipykernel)",
   "language": "python",
   "name": "python3"
  },
  "language_info": {
   "codemirror_mode": {
    "name": "ipython",
    "version": 3
   },
   "file_extension": ".py",
   "mimetype": "text/x-python",
   "name": "python",
   "nbconvert_exporter": "python",
   "pygments_lexer": "ipython3",
   "version": "3.13.5"
  }
 },
 "nbformat": 4,
 "nbformat_minor": 5
}

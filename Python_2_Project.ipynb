{
 "cells": [
  {
   "cell_type": "markdown",
   "id": "bfc60b9d-e4c8-416e-ace8-997f8becfde0",
   "metadata": {},
   "source": [
    "## Python Day2 project\n",
    "### &nbsp;&nbsp;&nbsp;Split our bill - Takes the bill amount, tip %, number of people and returns amount to be paid by each person"
   ]
  },
  {
   "cell_type": "code",
   "execution_count": 1,
   "id": "d508a378-361b-4d38-b87c-33479a57edf8",
   "metadata": {},
   "outputs": [
    {
     "name": "stdout",
     "output_type": "stream",
     "text": [
      "Welcome to Split our bill!\n"
     ]
    }
   ],
   "source": [
    "print(\"Welcome to Split our bill!\")"
   ]
  },
  {
   "cell_type": "code",
   "execution_count": 2,
   "id": "c2d62394-6bff-4af2-8314-93e6ebdd8d72",
   "metadata": {},
   "outputs": [
    {
     "name": "stdin",
     "output_type": "stream",
     "text": [
      "What was the total bill?\n",
      " 124.56\n"
     ]
    }
   ],
   "source": [
    "bill_amount=float(input(\"What was the total bill?\\n\"))"
   ]
  },
  {
   "cell_type": "code",
   "execution_count": 3,
   "id": "b9dbdbd7-21ed-4a8f-975b-ac5ca80808cb",
   "metadata": {},
   "outputs": [
    {
     "name": "stdin",
     "output_type": "stream",
     "text": [
      "How much tip would you like to give? (in %)\n",
      " 12\n"
     ]
    }
   ],
   "source": [
    "tip_amount=int(input(\"How much tip would you like to give? (in %)\\n\"))"
   ]
  },
  {
   "cell_type": "code",
   "execution_count": 4,
   "id": "495f1949-ce28-4c8c-9551-60a6b4220222",
   "metadata": {},
   "outputs": [
    {
     "name": "stdout",
     "output_type": "stream",
     "text": [
      "Total bill is :139.5072\n"
     ]
    }
   ],
   "source": [
    "total_amount= bill_amount + bill_amount*(tip_amount/100)\n",
    "print(f\"Total bill is :{total_amount}\")"
   ]
  },
  {
   "cell_type": "code",
   "execution_count": 5,
   "id": "adf29480-b6c4-4fc7-85e8-3f1f910eadb8",
   "metadata": {},
   "outputs": [
    {
     "name": "stdin",
     "output_type": "stream",
     "text": [
      "How many people to split the bill?\n",
      " 5\n"
     ]
    }
   ],
   "source": [
    "number_of_people=int(input(\"How many people to split the bill?\\n\"))"
   ]
  },
  {
   "cell_type": "code",
   "execution_count": 11,
   "id": "443b438a-3edf-4a37-b3a1-6145afb5bf79",
   "metadata": {},
   "outputs": [
    {
     "name": "stdout",
     "output_type": "stream",
     "text": [
      "Amount to paid by each person is :$27.9\n"
     ]
    }
   ],
   "source": [
    "amount_per_person=total_amount/number_of_people\n",
    "print(f\"Amount to paid by each person is :${round(amount_per_person,2)}\")"
   ]
  },
  {
   "cell_type": "code",
   "execution_count": null,
   "id": "dd181d01-de4e-42aa-827d-88ba65de6dab",
   "metadata": {},
   "outputs": [],
   "source": []
  }
 ],
 "metadata": {
  "kernelspec": {
   "display_name": "Python 3 (ipykernel)",
   "language": "python",
   "name": "python3"
  },
  "language_info": {
   "codemirror_mode": {
    "name": "ipython",
    "version": 3
   },
   "file_extension": ".py",
   "mimetype": "text/x-python",
   "name": "python",
   "nbconvert_exporter": "python",
   "pygments_lexer": "ipython3",
   "version": "3.13.5"
  }
 },
 "nbformat": 4,
 "nbformat_minor": 5
}

{
 "cells": [
  {
   "cell_type": "markdown",
   "id": "8e42a488-0c42-49e2-a9cc-bf08921e466b",
   "metadata": {},
   "source": [
    "# Day 2\n",
    "### &nbsp;&nbsp;&nbsp;Subscripting\n",
    "### &nbsp;&nbsp;&nbsp;Datatypes\n",
    "### &nbsp;&nbsp;&nbsp;type()\n",
    "### &nbsp;&nbsp;&nbsp;typecasting\n",
    "### &nbsp;&nbsp;&nbsp;Mathematical operations\n",
    "### &nbsp;&nbsp;&nbsp;Round()\n",
    "### &nbsp;&nbsp;&nbsp;Formatted strings"
   ]
  },
  {
   "cell_type": "markdown",
   "id": "1df3c4ba-04bf-4cbe-80c4-60b34157a472",
   "metadata": {},
   "source": [
    "### Subscripting means accessing elements of the string,lists (collections) etc using []"
   ]
  },
  {
   "cell_type": "code",
   "execution_count": 2,
   "id": "4766abcf-831d-4164-a6cf-b4bbe0d9d312",
   "metadata": {},
   "outputs": [
    {
     "name": "stdout",
     "output_type": "stream",
     "text": [
      "Hello World\n"
     ]
    }
   ],
   "source": [
    "Message='Hello World'\n",
    "print(Message)"
   ]
  },
  {
   "cell_type": "code",
   "execution_count": 3,
   "id": "c6616168-a807-402a-af77-459c7df29c9a",
   "metadata": {},
   "outputs": [
    {
     "name": "stdout",
     "output_type": "stream",
     "text": [
      "H\n"
     ]
    }
   ],
   "source": [
    "print(Message[0])"
   ]
  },
  {
   "cell_type": "code",
   "execution_count": 4,
   "id": "bac62df5-9bb4-4c49-85c8-797e9dd615e8",
   "metadata": {},
   "outputs": [
    {
     "name": "stdout",
     "output_type": "stream",
     "text": [
      "o\n"
     ]
    }
   ],
   "source": [
    "print(Message[4])"
   ]
  },
  {
   "cell_type": "code",
   "execution_count": 5,
   "id": "a5d54522-d14c-4fda-ab21-ddc493a81bc0",
   "metadata": {},
   "outputs": [
    {
     "name": "stdout",
     "output_type": "stream",
     "text": [
      "d\n"
     ]
    }
   ],
   "source": [
    "print(Message[-1])"
   ]
  },
  {
   "cell_type": "code",
   "execution_count": 6,
   "id": "28cf1f34-5931-4401-a8e2-4a764c0d4654",
   "metadata": {},
   "outputs": [
    {
     "name": "stdout",
     "output_type": "stream",
     "text": [
      "r\n"
     ]
    }
   ],
   "source": [
    "print(Message[-3])"
   ]
  },
  {
   "cell_type": "markdown",
   "id": "808a6787-7cbb-4dad-b41b-bd5803d10f76",
   "metadata": {},
   "source": [
    "### 2 Indexes are associated with each element of a collection. One from left to right and another from right to left. We can use either to access the elements\n",
    "\n"
   ]
  },
  {
   "cell_type": "raw",
   "id": "4b001deb-8980-4772-a350-fb4ab7f66c1a",
   "metadata": {},
   "source": [
    "String -  H    e  l  l  o     W  o  r  l  d\n",
    "Index 1-  0    1  2  3  4  5  6  7  8  9  10\n",
    "Index 2- -11 -10 -9 -8 -7 -6 -5 -4 -3 -2 -1 "
   ]
  },
  {
   "cell_type": "markdown",
   "id": "361bab72-36b2-4e6f-b14e-3d3e86b5fe83",
   "metadata": {},
   "source": [
    "### Integer data type. Whole numbers"
   ]
  },
  {
   "cell_type": "code",
   "execution_count": 7,
   "id": "736277a9-41d2-45ef-8252-ec49cc56fdf5",
   "metadata": {},
   "outputs": [
    {
     "name": "stdout",
     "output_type": "stream",
     "text": [
      "1243\n"
     ]
    }
   ],
   "source": [
    "num_of_players=1243\n",
    "print(num_of_players)"
   ]
  },
  {
   "cell_type": "markdown",
   "id": "00ce34b6-5c08-4b9f-845a-b15f7c4523ac",
   "metadata": {},
   "source": [
    "#### Large numbers can be seperated with _ inplace of , we using in real world. So 145,562,909 can be written as 145_562_909. Python will ignore the _"
   ]
  },
  {
   "cell_type": "code",
   "execution_count": 8,
   "id": "61d925bf-101d-4e5a-9203-9d1d5fa47621",
   "metadata": {},
   "outputs": [
    {
     "name": "stdout",
     "output_type": "stream",
     "text": [
      "145562909\n"
     ]
    }
   ],
   "source": [
    "\n",
    "balance=145_562_909\n",
    "print(balance)"
   ]
  },
  {
   "cell_type": "markdown",
   "id": "0308bfe5-c58c-479c-b0c0-f9b49c77ab8c",
   "metadata": {},
   "source": [
    "### Floating point number. Decimal numbers\n",
    "\n",
    "price=129.99\n",
    "print(price)"
   ]
  },
  {
   "cell_type": "code",
   "execution_count": 9,
   "id": "c91ee341-cf75-452a-87f9-48e1a18a0298",
   "metadata": {},
   "outputs": [
    {
     "name": "stdout",
     "output_type": "stream",
     "text": [
      "145562909.99949\n"
     ]
    }
   ],
   "source": [
    "balance=145_562_909.999_49\n",
    "print(balance)"
   ]
  },
  {
   "cell_type": "markdown",
   "id": "42b51573-47f8-45be-a54e-c048f95706ef",
   "metadata": {},
   "source": [
    "### Boolean. True or False. No \"\" or '' or it becomes a string"
   ]
  },
  {
   "cell_type": "code",
   "execution_count": 10,
   "id": "4d2c3b91-a69a-4aae-bdc7-8691fb7b8d1c",
   "metadata": {},
   "outputs": [
    {
     "name": "stdout",
     "output_type": "stream",
     "text": [
      "True\n"
     ]
    }
   ],
   "source": [
    "is_active=True\n",
    "print(is_active)"
   ]
  },
  {
   "cell_type": "code",
   "execution_count": 11,
   "id": "0cabc6dc-24b1-44d2-8cbd-66e35c62bd7b",
   "metadata": {},
   "outputs": [
    {
     "name": "stdout",
     "output_type": "stream",
     "text": [
      "False\n"
     ]
    }
   ],
   "source": [
    "is_active=False\n",
    "print(is_active)"
   ]
  },
  {
   "cell_type": "markdown",
   "id": "7279434a-b258-4899-92c9-5d25c327a3af",
   "metadata": {},
   "source": [
    "### type() function can be used to find the datatype of value or variable"
   ]
  },
  {
   "cell_type": "code",
   "execution_count": 14,
   "id": "3a56a999-945e-4750-a703-ad20e1c29a3c",
   "metadata": {},
   "outputs": [
    {
     "name": "stdout",
     "output_type": "stream",
     "text": [
      "<class 'float'>\n"
     ]
    }
   ],
   "source": [
    "print(type(98798.098))"
   ]
  },
  {
   "cell_type": "code",
   "execution_count": 16,
   "id": "75646581-b484-492d-b6b7-6c5e19c36024",
   "metadata": {},
   "outputs": [
    {
     "name": "stdout",
     "output_type": "stream",
     "text": [
      "<class 'int'>\n"
     ]
    }
   ],
   "source": [
    "value=98798\n",
    "print(type(value))"
   ]
  },
  {
   "cell_type": "code",
   "execution_count": 17,
   "id": "fabc8026-b82f-4c44-9e50-6da106958c7f",
   "metadata": {},
   "outputs": [
    {
     "name": "stdout",
     "output_type": "stream",
     "text": [
      "<class 'str'>\n"
     ]
    }
   ],
   "source": [
    "name='Toronto'\n",
    "print(type(name))"
   ]
  },
  {
   "cell_type": "markdown",
   "id": "6546f3cf-ebc2-4176-99fb-420fd937fe66",
   "metadata": {},
   "source": [
    "### Type casting is a process of converting a value or variable from one data type to another"
   ]
  },
  {
   "cell_type": "code",
   "execution_count": 18,
   "id": "ccb0d391-d1e5-4863-a9a6-4c76f1ee04a7",
   "metadata": {},
   "outputs": [
    {
     "name": "stdout",
     "output_type": "stream",
     "text": [
      "987987\n"
     ]
    }
   ],
   "source": [
    "value=987987\n",
    "print(value)"
   ]
  },
  {
   "cell_type": "code",
   "execution_count": 19,
   "id": "2a1e89e7-2d0e-4fc8-8c8c-dc353ec75302",
   "metadata": {},
   "outputs": [
    {
     "ename": "TypeError",
     "evalue": "object of type 'int' has no len()",
     "output_type": "error",
     "traceback": [
      "\u001b[1;31m---------------------------------------------------------------------------\u001b[0m",
      "\u001b[1;31mTypeError\u001b[0m                                 Traceback (most recent call last)",
      "Cell \u001b[1;32mIn[19], line 1\u001b[0m\n\u001b[1;32m----> 1\u001b[0m \u001b[38;5;28mprint\u001b[39m(\u001b[38;5;28mlen\u001b[39m(value))\n",
      "\u001b[1;31mTypeError\u001b[0m: object of type 'int' has no len()"
     ]
    }
   ],
   "source": [
    "print(len(value))"
   ]
  },
  {
   "cell_type": "code",
   "execution_count": 20,
   "id": "fd05fc8f-ac77-4594-9dd4-fac41ccf26bc",
   "metadata": {},
   "outputs": [
    {
     "name": "stdout",
     "output_type": "stream",
     "text": [
      "6\n"
     ]
    }
   ],
   "source": [
    "print(len(str(value)))"
   ]
  },
  {
   "cell_type": "code",
   "execution_count": 21,
   "id": "1fe19fe7-2b70-4fe3-9895-f7ad24ed2f0c",
   "metadata": {},
   "outputs": [
    {
     "name": "stdout",
     "output_type": "stream",
     "text": [
      "123567\n"
     ]
    }
   ],
   "source": [
    "num1=\"123\"\n",
    "num2=\"567\"\n",
    "print(num1+num2)"
   ]
  },
  {
   "cell_type": "code",
   "execution_count": 22,
   "id": "35e332ae-4b9d-4dbb-98d5-0871efa18353",
   "metadata": {},
   "outputs": [
    {
     "name": "stdout",
     "output_type": "stream",
     "text": [
      "690\n"
     ]
    }
   ],
   "source": [
    "print(int(num1)+ int(num2))"
   ]
  },
  {
   "cell_type": "code",
   "execution_count": 23,
   "id": "fd635dca-dc2e-488a-8374-dc2b1042aa7f",
   "metadata": {},
   "outputs": [
    {
     "name": "stdout",
     "output_type": "stream",
     "text": [
      "989.909\n"
     ]
    }
   ],
   "source": [
    "fvalue='989.909'\n",
    "print(fvalue)"
   ]
  },
  {
   "cell_type": "code",
   "execution_count": 24,
   "id": "785371d7-8342-43a0-b89d-c2d576d14e36",
   "metadata": {},
   "outputs": [
    {
     "name": "stdout",
     "output_type": "stream",
     "text": [
      "<class 'str'>\n"
     ]
    }
   ],
   "source": [
    "print(type(fvalue))"
   ]
  },
  {
   "cell_type": "code",
   "execution_count": 26,
   "id": "9571d335-17d1-4ff9-85f1-7894483e9249",
   "metadata": {},
   "outputs": [
    {
     "name": "stdout",
     "output_type": "stream",
     "text": [
      "<class 'float'>\n"
     ]
    }
   ],
   "source": [
    "print(type(float(fvalue)))"
   ]
  },
  {
   "cell_type": "markdown",
   "id": "930ca64f-618f-4db8-912b-8b597100566a",
   "metadata": {},
   "source": [
    "### Mathematical operations"
   ]
  },
  {
   "cell_type": "code",
   "execution_count": 27,
   "id": "9a154780-ff5f-432e-953b-093cfbe60016",
   "metadata": {},
   "outputs": [
    {
     "name": "stdout",
     "output_type": "stream",
     "text": [
      "3\n"
     ]
    }
   ],
   "source": [
    "print(2+1) ## Addition"
   ]
  },
  {
   "cell_type": "code",
   "execution_count": 28,
   "id": "19cb773e-8488-4652-a544-db0eea29f4e3",
   "metadata": {},
   "outputs": [
    {
     "name": "stdout",
     "output_type": "stream",
     "text": [
      "1\n"
     ]
    }
   ],
   "source": [
    "print(3-2) #Subtraction"
   ]
  },
  {
   "cell_type": "code",
   "execution_count": 29,
   "id": "9be31fbf-7e6c-4c35-b5d1-3cb711352bc8",
   "metadata": {},
   "outputs": [
    {
     "name": "stdout",
     "output_type": "stream",
     "text": [
      "8\n"
     ]
    }
   ],
   "source": [
    "print(4*2) #Multiplication"
   ]
  },
  {
   "cell_type": "code",
   "execution_count": 30,
   "id": "1c9eb180-e5a3-45f1-ba51-45bfb8deaff4",
   "metadata": {},
   "outputs": [
    {
     "name": "stdout",
     "output_type": "stream",
     "text": [
      "2.0\n"
     ]
    }
   ],
   "source": [
    "print(4/2) #Division"
   ]
  },
  {
   "cell_type": "code",
   "execution_count": 31,
   "id": "a0e94c3c-a9cd-47b1-bccd-55fbe8005fa3",
   "metadata": {},
   "outputs": [
    {
     "name": "stdout",
     "output_type": "stream",
     "text": [
      "2\n"
     ]
    }
   ],
   "source": [
    "print(4//2) #Division with integer as a result by flooring the result"
   ]
  },
  {
   "cell_type": "code",
   "execution_count": 32,
   "id": "e26a711f-9ffd-461b-9776-d4af5e7b0042",
   "metadata": {},
   "outputs": [
    {
     "name": "stdout",
     "output_type": "stream",
     "text": [
      "2\n"
     ]
    }
   ],
   "source": [
    "print(5//2)"
   ]
  },
  {
   "cell_type": "code",
   "execution_count": 33,
   "id": "1f98d23d-4a90-4aa9-8dc5-84fb8dd57e8c",
   "metadata": {},
   "outputs": [
    {
     "name": "stdout",
     "output_type": "stream",
     "text": [
      "-3\n"
     ]
    }
   ],
   "source": [
    "print(-5//2)"
   ]
  },
  {
   "cell_type": "code",
   "execution_count": 34,
   "id": "53d47053-0bb5-4f19-b72d-510e2b2eca1c",
   "metadata": {},
   "outputs": [
    {
     "name": "stdout",
     "output_type": "stream",
     "text": [
      "2.0\n"
     ]
    }
   ],
   "source": [
    "print(5.5//2)"
   ]
  },
  {
   "cell_type": "markdown",
   "id": "453a3737-580f-4b2d-b799-c7868c13c896",
   "metadata": {},
   "source": [
    "### Mathematical operations order - PEMDASLR Parenthesis, Exponentiation, multiplication or division (whichever is on the left), Addition or subtraction (left 1st)\n"
   ]
  },
  {
   "cell_type": "markdown",
   "id": "0fd8ad67-bb7d-464c-95b7-dc20a588ad8a",
   "metadata": {},
   "source": [
    "### round()- Can be used to round off a floating point number"
   ]
  },
  {
   "cell_type": "code",
   "execution_count": 36,
   "id": "f39fa2f5-ef68-404f-a9be-32287ba750d1",
   "metadata": {},
   "outputs": [
    {
     "name": "stdout",
     "output_type": "stream",
     "text": [
      "990\n",
      "989.9\n"
     ]
    }
   ],
   "source": [
    "fvalue=989.898\n",
    "print(round(fvalue))  #Rounds off to a whole number\n",
    "print(round(fvalue,2)) # Rounds off to a floading with 2 digits afterm decimal"
   ]
  },
  {
   "cell_type": "markdown",
   "id": "ec600e7b-2c71-447e-8bd2-e97a8e0deac4",
   "metadata": {},
   "source": [
    "### Assign new value to a variable with mathemical operation\n",
    "#### +=, -=, *=, /="
   ]
  },
  {
   "cell_type": "code",
   "execution_count": 39,
   "id": "e860faeb-a79e-4598-8b92-aa120d4aedc4",
   "metadata": {},
   "outputs": [
    {
     "name": "stdout",
     "output_type": "stream",
     "text": [
      "First number: 4\n",
      "Second number: 2\n"
     ]
    }
   ],
   "source": [
    "num1=4\n",
    "num2=2\n",
    "print(f'First number: {num1}')\n",
    "print(f'Second number: {num2}')"
   ]
  },
  {
   "cell_type": "code",
   "execution_count": 40,
   "id": "11cd7115-5369-466c-9ede-f25d21fe2a38",
   "metadata": {},
   "outputs": [
    {
     "name": "stdout",
     "output_type": "stream",
     "text": [
      "First number: 6\n"
     ]
    }
   ],
   "source": [
    "num1+=num2\n",
    "print(f'First number: {num1}')"
   ]
  },
  {
   "cell_type": "code",
   "execution_count": 41,
   "id": "a1fe48bc-f86b-449a-bcff-35c5ed9e82df",
   "metadata": {},
   "outputs": [
    {
     "name": "stdout",
     "output_type": "stream",
     "text": [
      "First number: 4\n"
     ]
    }
   ],
   "source": [
    "num1-=num2\n",
    "print(f'First number: {num1}')"
   ]
  },
  {
   "cell_type": "code",
   "execution_count": 42,
   "id": "cf7096ff-3d4f-45a7-8385-f2a613d61d76",
   "metadata": {},
   "outputs": [
    {
     "name": "stdout",
     "output_type": "stream",
     "text": [
      "First number: 8\n"
     ]
    }
   ],
   "source": [
    "num1*=num2\n",
    "print(f'First number: {num1}')"
   ]
  },
  {
   "cell_type": "code",
   "execution_count": 43,
   "id": "1c0b1868-f08a-46a3-8948-0f31fbd1901d",
   "metadata": {},
   "outputs": [
    {
     "name": "stdout",
     "output_type": "stream",
     "text": [
      "First number: 4.0\n"
     ]
    }
   ],
   "source": [
    "num1/=num2\n",
    "print(f'First number: {num1}')"
   ]
  },
  {
   "cell_type": "markdown",
   "id": "74e71f97-65aa-4ec6-979e-c910f7deccf5",
   "metadata": {},
   "source": [
    "### Formatted Strings allows embedding expression directly in the string"
   ]
  },
  {
   "cell_type": "code",
   "execution_count": 44,
   "id": "4a98743a-3e27-468d-bdeb-026b59ea8f3f",
   "metadata": {},
   "outputs": [
    {
     "name": "stdout",
     "output_type": "stream",
     "text": [
      "With formatted string i can print integer:10, string:Ten, and float 10.0 directly without type casting\n"
     ]
    }
   ],
   "source": [
    "ivalue=10\n",
    "svalue='Ten'\n",
    "fvalue=10.00\n",
    "\n",
    "print(f\"With formatted string i can print integer:{ivalue}, string:{svalue}, and float {fvalue} directly without type casting\")"
   ]
  },
  {
   "cell_type": "code",
   "execution_count": null,
   "id": "05f3aea4-0ca4-4908-87da-d65f12862d7f",
   "metadata": {},
   "outputs": [],
   "source": []
  }
 ],
 "metadata": {
  "kernelspec": {
   "display_name": "Python 3 (ipykernel)",
   "language": "python",
   "name": "python3"
  },
  "language_info": {
   "codemirror_mode": {
    "name": "ipython",
    "version": 3
   },
   "file_extension": ".py",
   "mimetype": "text/x-python",
   "name": "python",
   "nbconvert_exporter": "python",
   "pygments_lexer": "ipython3",
   "version": "3.13.5"
  }
 },
 "nbformat": 4,
 "nbformat_minor": 5
}

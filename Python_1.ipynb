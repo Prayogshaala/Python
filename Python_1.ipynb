{
 "cells": [
  {
   "cell_type": "markdown",
   "id": "f7c4a233-ea91-4c71-90b9-52f6c2d6d6dd",
   "metadata": {},
   "source": [
    "# Day 1\n",
    "### &nbsp;&nbsp;&nbsp;print\n",
    "### &nbsp;&nbsp;&nbsp;string concatenation\n",
    "### &nbsp;&nbsp;&nbsp;input\n",
    "### &nbsp;&nbsp;&nbsp;variables\n",
    "### &nbsp;&nbsp;&nbsp;comments\n",
    "### &nbsp;&nbsp;&nbsp;String function len()"
   ]
  },
  {
   "cell_type": "markdown",
   "id": "cb206b50-ea60-4d65-b3a0-ff375f79ebe3",
   "metadata": {},
   "source": [
    "### print is used to display messages, values to the user"
   ]
  },
  {
   "cell_type": "code",
   "execution_count": 14,
   "id": "648e2587-dda5-435e-bc3f-f303d8a7c0df",
   "metadata": {},
   "outputs": [
    {
     "name": "stdout",
     "output_type": "stream",
     "text": [
      "Welcome to the Band Name Generator.\n"
     ]
    }
   ],
   "source": [
    "print(\"Welcome to the Band Name Generator.\")"
   ]
  },
  {
   "cell_type": "markdown",
   "id": "3eb8c49c-b53a-4870-8139-e707e72214d3",
   "metadata": {},
   "source": [
    "### input is used to get values from the user"
   ]
  },
  {
   "cell_type": "code",
   "execution_count": 15,
   "id": "98b9a75b-79e3-4a5b-b009-b32471a588c4",
   "metadata": {},
   "outputs": [
    {
     "name": "stdin",
     "output_type": "stream",
     "text": [
      "What is the name of city you grew up in?\n",
      " Moncton\n"
     ]
    }
   ],
   "source": [
    "city=input(\"What is the name of city you grew up in?\\n\")"
   ]
  },
  {
   "cell_type": "code",
   "execution_count": 16,
   "id": "b5e47351-1ee7-4fe1-a78b-c872e236c02b",
   "metadata": {},
   "outputs": [
    {
     "name": "stdin",
     "output_type": "stream",
     "text": [
      "What is your pets name?\n",
      " Rhimba\n"
     ]
    }
   ],
   "source": [
    "pet=input(\"What is your pets name?\\n\")"
   ]
  },
  {
   "cell_type": "markdown",
   "id": "75d661e4-457a-463a-9cd1-4118a6d9e4b2",
   "metadata": {},
   "source": [
    "### String concatenation - City and pet names are concatenated with the message"
   ]
  },
  {
   "cell_type": "code",
   "execution_count": 17,
   "id": "5a017edb-9769-4616-8fd0-a1929e0a0b12",
   "metadata": {},
   "outputs": [
    {
     "name": "stdout",
     "output_type": "stream",
     "text": [
      "You Bands name could be: Moncton Rhimba\n"
     ]
    }
   ],
   "source": [
    "print(\"Your Bands name could be:\",city+' '+pet)"
   ]
  },
  {
   "cell_type": "markdown",
   "id": "4d73a55c-288e-4cf0-969f-eaf20a371fe0",
   "metadata": {},
   "source": [
    "### Nesting of functions - here function input is nested in print"
   ]
  },
  {
   "cell_type": "code",
   "execution_count": 5,
   "id": "82d45366-2a89-4201-9f74-bdb64bba4ed7",
   "metadata": {},
   "outputs": [
    {
     "name": "stdin",
     "output_type": "stream",
     "text": [
      "What is your name? Digvijay\n"
     ]
    },
    {
     "name": "stdout",
     "output_type": "stream",
     "text": [
      "Hello Digvijay\n"
     ]
    }
   ],
   "source": [
    "print(\"Hello \"+ input(\"What is your name?\"))"
   ]
  },
  {
   "cell_type": "markdown",
   "id": "3fbb0d66-1412-403b-bced-4cec4a58f593",
   "metadata": {},
   "source": [
    "### Adding # at the start of the line makes python ignore the line. Can be used to add comments in the code"
   ]
  },
  {
   "cell_type": "code",
   "execution_count": 6,
   "id": "25b50b95-988d-4316-ba90-d2f28cab6c49",
   "metadata": {},
   "outputs": [
    {
     "name": "stdout",
     "output_type": "stream",
     "text": [
      "Above line was ignored\n"
     ]
    }
   ],
   "source": [
    "# Python will ignore this line\n",
    "print(\"Above line was ignored\")"
   ]
  },
  {
   "cell_type": "markdown",
   "id": "4f3b55c6-580f-44e4-8c47-54dfaaae8fc2",
   "metadata": {},
   "source": [
    "### Variables - Place where values passed by the user are saved. Value can be updated as well"
   ]
  },
  {
   "cell_type": "code",
   "execution_count": 7,
   "id": "49ca1fc2-67cc-4c6b-b1ea-f9f853ff6e58",
   "metadata": {},
   "outputs": [
    {
     "name": "stdin",
     "output_type": "stream",
     "text": [
      "Which city you grew up in ? Pune\n"
     ]
    },
    {
     "name": "stdout",
     "output_type": "stream",
     "text": [
      "Pune\n"
     ]
    }
   ],
   "source": [
    "city = input(\"Which city you grew up in ?\")\n",
    "print(city)"
   ]
  },
  {
   "cell_type": "code",
   "execution_count": 8,
   "id": "f1890b89-8c16-4b91-b862-a437ea194f17",
   "metadata": {},
   "outputs": [
    {
     "name": "stdout",
     "output_type": "stream",
     "text": [
      "Mumbai\n"
     ]
    }
   ],
   "source": [
    "city='Mumbai'\n",
    "print(city)"
   ]
  },
  {
   "cell_type": "markdown",
   "id": "d65970cf-1d5c-45fd-87aa-1ad5487e9b90",
   "metadata": {},
   "source": [
    "### String functions"
   ]
  },
  {
   "cell_type": "code",
   "execution_count": 13,
   "id": "0faa4807-e095-4e05-9d59-3451e38ef46f",
   "metadata": {},
   "outputs": [
    {
     "name": "stdout",
     "output_type": "stream",
     "text": [
      "Name of the city is :Mumbai , and length of the city is 6\n"
     ]
    }
   ],
   "source": [
    "# len() can be used to calculate number of characters in a string\n",
    "\n",
    "print(f'Name of the city is :{city} , and length of the city is {len(city)}')"
   ]
  },
  {
   "cell_type": "code",
   "execution_count": null,
   "id": "107fa439-9a62-49e2-bf1a-16063f936178",
   "metadata": {},
   "outputs": [],
   "source": []
  }
 ],
 "metadata": {
  "kernelspec": {
   "display_name": "Python 3 (ipykernel)",
   "language": "python",
   "name": "python3"
  },
  "language_info": {
   "codemirror_mode": {
    "name": "ipython",
    "version": 3
   },
   "file_extension": ".py",
   "mimetype": "text/x-python",
   "name": "python",
   "nbconvert_exporter": "python",
   "pygments_lexer": "ipython3",
   "version": "3.13.5"
  }
 },
 "nbformat": 4,
 "nbformat_minor": 5
}
